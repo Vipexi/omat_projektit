{
 "cells": [
  {
   "cell_type": "code",
   "execution_count": 1,
   "metadata": {},
   "outputs": [
    {
     "name": "stdout",
     "output_type": "stream",
     "text": [
      "2.7.0\n"
     ]
    },
    {
     "data": {
      "text/plain": [
       "[]"
      ]
     },
     "execution_count": 1,
     "metadata": {},
     "output_type": "execute_result"
    }
   ],
   "source": [
    "import tensorflow as tf\n",
    "\n",
    "import numpy as np\n",
    "import matplotlib.pyplot as plt\n",
    "\n",
    "print(tf.__version__)\n",
    "tf.config.list_physical_devices('GPU')"
   ]
  },
  {
   "cell_type": "code",
   "execution_count": 2,
   "metadata": {},
   "outputs": [],
   "source": [
    "fashion_mnist = tf.keras.datasets.fashion_mnist\n",
    "(train_images, train_labels) , (test_images, test_labels) = fashion_mnist.load_data()\n",
    "\n",
    "class_names = ['T-shirt/top', 'Trousers', 'Pullover', 'Dress', 'Coat',\n",
    "              'Sandals', 'Shirt', 'Sneakers', 'Bag', 'Ankle boot']"
   ]
  },
  {
   "cell_type": "code",
   "execution_count": 3,
   "metadata": {},
   "outputs": [],
   "source": [
    "train_images = train_images / 255.0\n",
    "test_images = test_images / 255.0"
   ]
  },
  {
   "cell_type": "code",
   "execution_count": 4,
   "metadata": {},
   "outputs": [],
   "source": [
    "model = tf.keras.Sequential([\n",
    "    tf.keras.layers.Flatten(input_shape= (28,28)),\n",
    "    tf.keras.layers.Dense(128, activation='relu'),\n",
    "    tf.keras.layers.Dense(10)\n",
    "])\n",
    "\n",
    "model.compile(optimizer='adam',\n",
    "             loss=tf.keras.losses.SparseCategoricalCrossentropy(from_logits = True),\n",
    "             metrics=['accuracy'])"
   ]
  },
  {
   "cell_type": "code",
   "execution_count": 5,
   "metadata": {},
   "outputs": [],
   "source": [
    "from tensorflow import keras\n",
    "from tensorflow.keras import layers"
   ]
  },
  {
   "cell_type": "code",
   "execution_count": 6,
   "metadata": {},
   "outputs": [],
   "source": [
    "def get_model1():\n",
    "    inputs = keras.Input(shape=(28,28))\n",
    "    flatten = layers.Flatten(input_shape=(28,28))(inputs)\n",
    "    hidden1 = layers.Dense(512, activation=\"relu\")(flatten)\n",
    "    outputs = layers.Dense(10)(hidden1)\n",
    "    return keras.Model(inputs, outputs)\n",
    "\n",
    "def get_model2():\n",
    "    inputs = keras.Input(shape=(28,28))\n",
    "    flatten = layers.Flatten(input_shape=(28,28))(inputs)\n",
    "    hidden1 = layers.Dense(512, activation=\"relu\")(flatten)\n",
    "    hidden2 = layers.Dense(256, activation=\"relu\")(hidden1)\n",
    "    outputs = layers.Dense(10)(hidden1)\n",
    "    return keras.Model(inputs, outputs)\n",
    "\n",
    "def get_model3():\n",
    "    inputs = keras.Input(shape=(28,28))\n",
    "    flatten = layers.Flatten(input_shape=(28,28))(inputs)\n",
    "    hidden1 = layers.Dense(512, activation=\"relu\")(flatten)\n",
    "    hidden2 = layers.Dense(256, activation=\"relu\")(hidden1)\n",
    "    hidden3 = layers.Dense(128, activation=\"relu\")(hidden2)\n",
    "    outputs = layers.Dense(10)(hidden3)\n",
    "    return keras.Model(inputs, outputs)\n",
    "\n",
    "def get_model4():\n",
    "    inputs = keras.Input(shape=(28,28))\n",
    "    flatten = layers.Flatten(input_shape=(28,28))(inputs)\n",
    "    hidden1 = layers.Dense(512, activation=\"relu\")(flatten)\n",
    "    hidden2 = layers.Dense(256, activation=\"relu\")(hidden1)\n",
    "    hidden3 = layers.Dense(128, activation=\"relu\")(hidden2)\n",
    "    hidden4 = layers.Dense(64, activation=\"relu\")(hidden3)\n",
    "    outputs = layers.Dense(10)(hidden4)\n",
    "    return keras.Model(inputs, outputs)\n",
    "\n",
    "\n"
   ]
  },
  {
   "cell_type": "code",
   "execution_count": 7,
   "metadata": {},
   "outputs": [],
   "source": [
    "model1 = get_model1()\n",
    "model2 = get_model1()\n",
    "model3 = get_model1()\n",
    "\n",
    "model4 = get_model2()\n",
    "model5 = get_model2()\n",
    "model6 = get_model2()\n",
    "\n",
    "model7 = get_model3()\n",
    "model8 = get_model3()\n",
    "model9 = get_model3()\n",
    "\n",
    "model10 = get_model4()\n",
    "model11 = get_model4()\n",
    "model12 = get_model4()\n",
    "\n",
    "inputs = keras.Input(shape=(28,28))\n",
    "\n",
    "y1 = model1(inputs)\n",
    "y2 = model2(inputs)\n",
    "y3 = model3(inputs)\n",
    "\n",
    "y4 = model4(inputs)\n",
    "y5 = model5(inputs)\n",
    "y6 = model6(inputs)\n",
    "\n",
    "y7 = model7(inputs)\n",
    "y8 = model8(inputs)\n",
    "y9 = model9(inputs)\n",
    "\n",
    "y10 = model10(inputs)\n",
    "y11 = model11(inputs)\n",
    "y12 = model12(inputs)\n",
    "\n",
    "outputs = layers.average([y1, y2, y3, y4, y5, y6, y7, y8, y9, y10, y11, y12])\n",
    "\n",
    "parallel_model = keras.Model(inputs=inputs, outputs=outputs)"
   ]
  },
  {
   "cell_type": "code",
   "execution_count": 8,
   "metadata": {},
   "outputs": [
    {
     "name": "stdout",
     "output_type": "stream",
     "text": [
      "Model: \"sequential\"\n",
      "_________________________________________________________________\n",
      " Layer (type)                Output Shape              Param #   \n",
      "=================================================================\n",
      " flatten (Flatten)           (None, 784)               0         \n",
      "                                                                 \n",
      " dense (Dense)               (None, 128)               100480    \n",
      "                                                                 \n",
      " dense_1 (Dense)             (None, 10)                1290      \n",
      "                                                                 \n",
      "=================================================================\n",
      "Total params: 101,770\n",
      "Trainable params: 101,770\n",
      "Non-trainable params: 0\n",
      "_________________________________________________________________\n"
     ]
    }
   ],
   "source": [
    "model.summary()"
   ]
  },
  {
   "cell_type": "code",
   "execution_count": 9,
   "metadata": {},
   "outputs": [
    {
     "name": "stdout",
     "output_type": "stream",
     "text": [
      "Model: \"model_12\"\n",
      "__________________________________________________________________________________________________\n",
      " Layer (type)                   Output Shape         Param #     Connected to                     \n",
      "==================================================================================================\n",
      " input_13 (InputLayer)          [(None, 28, 28)]     0           []                               \n",
      "                                                                                                  \n",
      " model (Functional)             (None, 10)           407050      ['input_13[0][0]']               \n",
      "                                                                                                  \n",
      " model_1 (Functional)           (None, 10)           407050      ['input_13[0][0]']               \n",
      "                                                                                                  \n",
      " model_2 (Functional)           (None, 10)           407050      ['input_13[0][0]']               \n",
      "                                                                                                  \n",
      " model_3 (Functional)           (None, 10)           407050      ['input_13[0][0]']               \n",
      "                                                                                                  \n",
      " model_4 (Functional)           (None, 10)           407050      ['input_13[0][0]']               \n",
      "                                                                                                  \n",
      " model_5 (Functional)           (None, 10)           407050      ['input_13[0][0]']               \n",
      "                                                                                                  \n",
      " model_6 (Functional)           (None, 10)           567434      ['input_13[0][0]']               \n",
      "                                                                                                  \n",
      " model_7 (Functional)           (None, 10)           567434      ['input_13[0][0]']               \n",
      "                                                                                                  \n",
      " model_8 (Functional)           (None, 10)           567434      ['input_13[0][0]']               \n",
      "                                                                                                  \n",
      " model_9 (Functional)           (None, 10)           575050      ['input_13[0][0]']               \n",
      "                                                                                                  \n",
      " model_10 (Functional)          (None, 10)           575050      ['input_13[0][0]']               \n",
      "                                                                                                  \n",
      " model_11 (Functional)          (None, 10)           575050      ['input_13[0][0]']               \n",
      "                                                                                                  \n",
      " average (Average)              (None, 10)           0           ['model[0][0]',                  \n",
      "                                                                  'model_1[0][0]',                \n",
      "                                                                  'model_2[0][0]',                \n",
      "                                                                  'model_3[0][0]',                \n",
      "                                                                  'model_4[0][0]',                \n",
      "                                                                  'model_5[0][0]',                \n",
      "                                                                  'model_6[0][0]',                \n",
      "                                                                  'model_7[0][0]',                \n",
      "                                                                  'model_8[0][0]',                \n",
      "                                                                  'model_9[0][0]',                \n",
      "                                                                  'model_10[0][0]',               \n",
      "                                                                  'model_11[0][0]']               \n",
      "                                                                                                  \n",
      "==================================================================================================\n",
      "Total params: 5,869,752\n",
      "Trainable params: 5,869,752\n",
      "Non-trainable params: 0\n",
      "__________________________________________________________________________________________________\n"
     ]
    }
   ],
   "source": [
    "parallel_model.summary()"
   ]
  },
  {
   "cell_type": "code",
   "execution_count": 10,
   "metadata": {},
   "outputs": [],
   "source": [
    "parallel_model.compile(optimizer=\"adam\", \n",
    "                      loss=keras.losses.SparseCategoricalCrossentropy(from_logits = True),\n",
    "             metrics=['accuracy'])"
   ]
  },
  {
   "cell_type": "code",
   "execution_count": 11,
   "metadata": {},
   "outputs": [
    {
     "name": "stdout",
     "output_type": "stream",
     "text": [
      "Epoch 1/10\n",
      "8/8 [==============================] - 50s 6s/step - loss: 1.4274 - accuracy: 0.5760\n",
      "Epoch 2/10\n",
      "8/8 [==============================] - 14s 2s/step - loss: 0.6882 - accuracy: 0.7584\n",
      "Epoch 3/10\n",
      "8/8 [==============================] - 13s 2s/step - loss: 0.5672 - accuracy: 0.8049\n",
      "Epoch 4/10\n",
      "8/8 [==============================] - 13s 2s/step - loss: 0.5059 - accuracy: 0.8232\n",
      "Epoch 5/10\n",
      "8/8 [==============================] - 13s 2s/step - loss: 0.4618 - accuracy: 0.8406\n",
      "Epoch 6/10\n",
      "8/8 [==============================] - 12s 1s/step - loss: 0.4389 - accuracy: 0.8464\n",
      "Epoch 7/10\n",
      "8/8 [==============================] - 21s 3s/step - loss: 0.4304 - accuracy: 0.8482\n",
      "Epoch 8/10\n",
      "8/8 [==============================] - 12s 2s/step - loss: 0.4050 - accuracy: 0.8583\n",
      "Epoch 9/10\n",
      "8/8 [==============================] - 13s 2s/step - loss: 0.3855 - accuracy: 0.8651\n",
      "Epoch 10/10\n",
      "8/8 [==============================] - 13s 2s/step - loss: 0.3766 - accuracy: 0.8691\n"
     ]
    },
    {
     "data": {
      "text/plain": [
       "<keras.callbacks.History at 0x7f9d32fe44c0>"
      ]
     },
     "execution_count": 11,
     "metadata": {},
     "output_type": "execute_result"
    }
   ],
   "source": [
    "parallel_model.fit(train_images, train_labels, epochs=10, batch_size=8192) #batch_size= 8192"
   ]
  },
  {
   "cell_type": "code",
   "execution_count": 12,
   "metadata": {},
   "outputs": [
    {
     "name": "stdout",
     "output_type": "stream",
     "text": [
      "313/313 - 4s - loss: 0.4038 - accuracy: 0.8557 - 4s/epoch - 14ms/step\n"
     ]
    }
   ],
   "source": [
    "test_loss, test_acc = parallel_model.evaluate(test_images, test_labels, verbose=2)"
   ]
  }
 ],
 "metadata": {
  "kernelspec": {
   "display_name": "Python 3",
   "language": "python",
   "name": "python3"
  },
  "language_info": {
   "codemirror_mode": {
    "name": "ipython",
    "version": 3
   },
   "file_extension": ".py",
   "mimetype": "text/x-python",
   "name": "python",
   "nbconvert_exporter": "python",
   "pygments_lexer": "ipython3",
   "version": "3.8.10"
  }
 },
 "nbformat": 4,
 "nbformat_minor": 4
}
