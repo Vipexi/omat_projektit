{
 "cells": [
  {
   "cell_type": "code",
   "execution_count": 1,
   "metadata": {},
   "outputs": [],
   "source": [
    "def relu(x):\n",
    "    if x > 0:\n",
    "        return x\n",
    "    else:\n",
    "        return 0"
   ]
  },
  {
   "cell_type": "code",
   "execution_count": 2,
   "metadata": {},
   "outputs": [],
   "source": [
    "def neuron(inputs, weights, bias, activation_function):\n",
    "    temp_output = 0\n",
    "    for i in range(len(inputs)):\n",
    "        temp_output = temp_output + inputs[i]*weights[i]\n",
    "    output = activation_function(temp_output+bias)\n",
    "    return output"
   ]
  },
  {
   "cell_type": "code",
   "execution_count": 3,
   "metadata": {},
   "outputs": [],
   "source": [
    "n1_inputs = [0.0, 0.0 ,0.0]\n",
    "n1_weights = [0.0, 0.0 ,0.0]\n",
    "n1_bias = 0.0"
   ]
  },
  {
   "cell_type": "code",
   "execution_count": 4,
   "metadata": {},
   "outputs": [],
   "source": [
    "n1 = neuron(n1_inputs, n1_weights, n1_bias, relu)"
   ]
  },
  {
   "cell_type": "code",
   "execution_count": 5,
   "metadata": {},
   "outputs": [
    {
     "name": "stdout",
     "output_type": "stream",
     "text": [
      "0\n"
     ]
    }
   ],
   "source": [
    "print(n1)"
   ]
  },
  {
   "cell_type": "code",
   "execution_count": 6,
   "metadata": {},
   "outputs": [],
   "source": [
    "%matplotlib ipympl\n",
    "from ipywidgets import *\n",
    "import numpy as np\n",
    "import matplotlib.pyplot as plt\n",
    "import random"
   ]
  },
  {
   "cell_type": "code",
   "execution_count": 7,
   "metadata": {},
   "outputs": [
    {
     "data": {
      "application/vnd.jupyter.widget-view+json": {
       "model_id": "20c5d4b2e1844c57806b8cfa8fb1754b",
       "version_major": 2,
       "version_minor": 0
      },
      "text/plain": [
       "interactive(children=(FloatSlider(value=0.0, description='i1', max=1.0), FloatSlider(value=0.0, description='i…"
      ]
     },
     "metadata": {},
     "output_type": "display_data"
    },
    {
     "data": {
      "text/plain": [
       "<function __main__.update_neuron_params(i1, i2, i3, w1, w2, w3, b)>"
      ]
     },
     "execution_count": 7,
     "metadata": {},
     "output_type": "execute_result"
    },
    {
     "data": {
      "application/vnd.jupyter.widget-view+json": {
       "model_id": "4cd54b36dc5b4923ae34a73704f4d000",
       "version_major": 2,
       "version_minor": 0
      },
      "text/html": [
       "\n",
       "            <div style=\"display: inline-block;\">\n",
       "                <div class=\"jupyter-widgets widget-label\" style=\"text-align: center;\">\n",
       "                    Figure\n",
       "                </div>\n",
       "                <img src='data:image/png;base64,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' width=640.0/>\n",
       "            </div>\n",
       "        "
      ],
      "text/plain": [
       "Canvas(toolbar=Toolbar(toolitems=[('Home', 'Reset original view', 'home', 'home'), ('Back', 'Back to previous …"
      ]
     },
     "metadata": {},
     "output_type": "display_data"
    }
   ],
   "source": [
    "neuron_fig = plt.figure()\n",
    "neuron_x = neuron_fig.add_subplot(1,1,1)\n",
    "neuron_x_axis = [round(random.uniform(0.01,0.99),4)]\n",
    "\n",
    "def update_neuron_params(i1,i2,i3,w1,w2,w3,b):\n",
    "    i = [i1,i2,i3]\n",
    "    w = [w1,w2,w3]\n",
    "    y_point_neuron = neuron(i,w,b,relu)\n",
    "    neuron_x_axis[0] = neuron_x_axis[0]+0.1*i1*i2*i3\n",
    "    plt.plot(neuron_x_axis, [y_point_neuron], marker='o', markersize='3', color='red')\n",
    "    neuron_fig.canvas.draw_idle()\n",
    "interact(update_neuron_params, i1=0.0, i2=0.0, i3=0.0,w1=0.0, w2=0.0, w3=0.0, b=0.0)"
   ]
  },
  {
   "cell_type": "markdown",
   "metadata": {},
   "source": [
    "Dense Layer"
   ]
  },
  {
   "cell_type": "code",
   "execution_count": 10,
   "metadata": {},
   "outputs": [],
   "source": [
    "def dense_layer(inputs_to_layer, number_of_neurons, activation_function, weights, biases):\n",
    "    output=[]\n",
    "    for i in range(number_of_neurons):\n",
    "        output_from_one_neuron = neuron(inputs_to_layer, weights[i], biases[i], activation_function)\n",
    "        output.append(output_from_one_neuron)\n",
    "    return output"
   ]
  },
  {
   "cell_type": "code",
   "execution_count": 11,
   "metadata": {},
   "outputs": [],
   "source": [
    "l1_weights = [[0] ,[0] ,[0] ,[0]]\n",
    "l1_biases = [0 ,0 , 0 ,0]\n",
    "l1_inputs = [0.4]\n",
    "layer1 = dense_layer(l1_inputs, 4, relu, l1_weights, l1_biases)\n"
   ]
  },
  {
   "cell_type": "code",
   "execution_count": 12,
   "metadata": {},
   "outputs": [
    {
     "name": "stdout",
     "output_type": "stream",
     "text": [
      "[0, 0, 0, 0]\n"
     ]
    }
   ],
   "source": [
    "print(layer1)"
   ]
  },
  {
   "cell_type": "code",
   "execution_count": 13,
   "metadata": {},
   "outputs": [],
   "source": [
    "l2_weights = [[0,0,0,0] ,[0,0,0,0] ,[0,0,0,0] ,[0,0,0,0]]\n",
    "l2_biases = [0 ,0 , 0 ,0]\n",
    "layer2 = dense_layer(layer1, 4, relu, l2_weights, l2_biases)\n"
   ]
  },
  {
   "cell_type": "code",
   "execution_count": 14,
   "metadata": {},
   "outputs": [
    {
     "name": "stdout",
     "output_type": "stream",
     "text": [
      "[0, 0, 0, 0]\n"
     ]
    }
   ],
   "source": [
    "print(layer2)"
   ]
  },
  {
   "cell_type": "code",
   "execution_count": 15,
   "metadata": {},
   "outputs": [],
   "source": [
    "l3_weights =[[0,0,0,0] ,[0,0,0,0]]\n",
    "l3_biases = [0 ,0]\n",
    "layer3 = dense_layer(layer2, 2, relu, l3_weights, l3_biases)\n"
   ]
  },
  {
   "cell_type": "code",
   "execution_count": 16,
   "metadata": {},
   "outputs": [
    {
     "name": "stdout",
     "output_type": "stream",
     "text": [
      "[0, 0]\n"
     ]
    }
   ],
   "source": [
    "print(layer3)"
   ]
  },
  {
   "cell_type": "code",
   "execution_count": 17,
   "metadata": {},
   "outputs": [],
   "source": [
    "def lin(x):\n",
    "    return x"
   ]
  },
  {
   "cell_type": "code",
   "execution_count": 19,
   "metadata": {},
   "outputs": [
    {
     "data": {
      "application/vnd.jupyter.widget-view+json": {
       "model_id": "6cba8117d0ce4fbbae9b790241544f8d",
       "version_major": 2,
       "version_minor": 0
      },
      "text/plain": [
       "GridspecLayout(children=(FloatSlider(value=0.0, description='l1w11', layout=Layout(grid_area='widget001'), max…"
      ]
     },
     "metadata": {},
     "output_type": "display_data"
    },
    {
     "data": {
      "application/vnd.jupyter.widget-view+json": {
       "model_id": "9666bdce6ff54640afc59848a807c8f3",
       "version_major": 2,
       "version_minor": 0
      },
      "text/html": [
       "\n",
       "            <div style=\"display: inline-block;\">\n",
       "                <div class=\"jupyter-widgets widget-label\" style=\"text-align: center;\">\n",
       "                    Figure\n",
       "                </div>\n",
       "                <img src='data:image/png;base64,iVBORw0KGgoAAAANSUhEUgAAAoAAAAHgCAYAAAA10dzkAAAAOXRFWHRTb2Z0d2FyZQBNYXRwbG90bGliIHZlcnNpb24zLjMuMiwgaHR0cHM6Ly9tYXRwbG90bGliLm9yZy8vihELAAAACXBIWXMAAA9hAAAPYQGoP6dpAAA0s0lEQVR4nO3de3RV5Z3/8U8STAKFBGhCuCSSekMtCBZLDJaiNSO21OqK2IhdctHBwXEUTWslikmDVbDeW6m0LFBnTS2XTLysEbGakVVtUxkBWy/UioIgmhBEc7hYIifP74/9O0cOuXD2uZ/9vF9rZSk7e588O/sk+5Pn2c/3yTDGGAEAAMAamcluAAAAABKLAAgAAGAZAiAAAIBlCIAAAACWIQACAABYhgAIAABgGQIgAACAZQiAAAAAliEAAgAAWIYACAAAYBkCIAAAgGUIgAAAAJYhAAIAAFiGAAgAAGAZAiAAAIBlCIAAAACWIQACAABYhgAIAABgGQIgAACAZQiAAAAAliEAAgAAWIYACAAAYBkCIAAAgGUIgAAAAJYhAAIAAFiGAAgAAGAZAiAAAIBlCIAAAACWIQACAABYhgAIAABgGQIgAACAZQiAAAAAliEAAgAAWIYACAAAYBkCIAAAgGUIgAAAAJYhAAIAAFiGAAgAAGAZAiAAAIBlCIAAAACWIQACAABYhgAIAABgGQIgAACAZQiAAAAAliEAAgAAWIYACAAAYBkCIAAAgGUIgAAAAJYhAAIAAFiGAAgAAGAZAiAAAIBlCIAAAACWIQACAABYhgAIAABgGQIgAACAZQiAAAAAlumT7Aaks87OTn300UcaMGCAMjIykt0cAAAQBmOM9u3bp+HDhysz086+MAJgFD766COVlJQkuxkAACACO3fuVHFxcbKbkRQEwCgMGDBAkvMGysvLS3JrAABAOHw+n0pKSoL3cRsRAKMQGPbNy8sjAAIAkGZsfnzLzoFvAAAAixEAAQAALEMABAAAsAwBEAAAwDIEQAAAAMsQAAEAACxDAAQAALAMARAAAMAyFIIGAEl+v/Tyy9KuXVJbm/TVr0qffPLlfwsLpaFDnX1375aGDZMmTZKyspLbbgCIhGcC4B//+Efdc8892rhxoz7++GM9+eSTuuSSS3o9Zv369aqurtZbb72lkpISLViwQLNmzUpIewHEx9FB7sjg1tLSfbjbvl164gnnc24MGiRdfLH0ne90DYlHf63CQmnECEIjgNTgmQB44MABjR07VldddZUqKyuPuf+2bds0depUzZ07V7/73e/U1NSkf/3Xf9WwYcM0ZcqUBLQYQKR6Cnkvvyz96lfS3r2Jacenn0qPPeZ8hKugQLriCulrXyMcAkieDGOMSXYjYi0jI+OYPYC33HKLnn32Wb355pvBbZdffrk+++wzrVu3Lqyv4/P5lJ+fr/b2dtYCBuLoyMDX1CQ9/XTiQl4iDR4sXX+9EwQZZgbih/u3h3oA3WpublZFRUXItilTpujGG2/s8ZhDhw7p0KFDwX/7fL54NQ+w1tG9e5EOz6ajvXul+vrQbYFh5ooKegkBxI61AbClpUVFRUUh24qKiuTz+fT555+rb9++XY5ZtGiR6o/+7QwgKrb07kXq6GFmegkBxIK1ATASNTU1qq6uDv7b5/OppKQkiS0C0ovNvXuxQi8hgFiwNgAOHTpUra2tIdtaW1uVl5fXbe+fJOXk5CgnJycRzQM8xe+X7rxTeughevfiobtewnnzpNtuIwgC6J61AbC8vFxr164N2fbCCy+ovLw8SS0CvCHQy/fxx9KQIc7/33eftH9/sltmj717pbo65/s+a5Yz45iZxgCO5JkAuH//fm3dujX4723btun111/X4MGDdfzxx6umpka7du3Sf/7nf0qS5s6dq4cfflg//elPddVVV+l///d/tXr1aj377LPJOgUgrdHLl3p8PumXvwzdRu8gAMlDZWDWr1+v8847r8v2mTNn6rHHHtOsWbO0fft2rV+/PuSYm266SW+//baKi4t1++23uyoEzTRy4Mvgd8896d/LV1goTZ8eWqPv6JVAEl1rMF7y8qSrrnKeHaRXELbh/u2hAJgMvIFgq8Aw79NPSytWOD1NqebIiRHHWgnE7fBoT8vG9bYSSCpPeKFXELbh/k0AjApvINgm1YZ5uwt5qVwapbvg+NJLqVP6pn9/6eabCYLwPu7fBMCo8AaC1x1do2/NmuQN8x45POu1CQ3dTZxJ5jBz//7Sj39MrUF4F/dvAmBUeAPBi44c3v3d75I3ZGl7bbtUK5DNMDG8hPs3ATAqvIHgJckc3vVy716spEovIcPE8ALu3wTAqPAGghckYxbvV74iXXaZvb17sZLMXkKCINIZ928CYFR4AyGdJSP4MYwYX8kYvqecDNIR928CYFR4AyFdNTZK11zjlCeJFyYSJFcyegeLi51HCCor4/t1gGhx/yYARoU3ENJNoNevri5+X4NevtSUyNqNq1c7Q/xAquL+LWUmuwEA4s/vlxYudCZYxCP85eVJN97o1LTbvVuqrSX8pZqsLOncc6UHHnB6AuvrnV7aeKiqcl7f74/P6wOIHgEQ8LBA8Bs40Al+n34a29fv39+50e/d6wSLc88l+KWDrCwnpH/2WXyCoDHSz37mvO8WLiQIAqmIIeAo0IWMVBXvCR4M83pLvEsAMVEEqYb7NwEwKryBkEri9YxXXp40axY1+mzQXa3B++6L7R8R/PGAVMD9mwAYFd5ASAXx6r2hzhuk+PUm8/5CMnH/5hlAIK01NkpFRc7zfbEKf4Hn+j77jMkc6Pq84ODBsXnd/fud921RkfM+BpBYBEAgTTU0SJdeGrtafoMHE/zQs0AQ3L3bme19ww1SZgzuIJ984ryPmSwCJBYBEEgjfr+0fr3zDFVVVexet76e8i0IT6CczEMPSatWxe516+qc5w4JgkBiEACBNBAo5zJkiHTeedIvfyl1dkb/ul/9qvTf/03wQ2SmTXPeP1/9amxeb+9eJwhSPgaIPwIgkOLi+ZxfayvLdiE6lZXO+yiW9QR5PhCIPwIgkMJi/ZwfEzwQD/GaKBJ4PnDNmti8HoAvEQCBFOT3Oysp/PCHsXk9JnggEY6eKHLjjU4dyWhdfrnzWuvXMywMxAp1AKNAHSHEUqwLObP6AlJBrOsIUkgascD9mwAYFd5AiJXGRuem9uGH0b9WRobz/NSCBdwgkToCQfDBB2OzJvVXvyr99rc8w4rIcP9mCBhIusBzfrEIf5JTmqOujvCH1BIYHm5rcx5HiBbPBwLRIQACSRLr5/xKSpySHJddFpvXA+IhEARjVT6mqsoJlDwbCLhDAASSIFDapb5eiuYhjLw85+H4l16Stm1jOAzpI1blY4xx/pCiZAzgDgEQSLBYlHbJyHBuenv3Sg884KzMwJAv0s2R5WPq6pz3daRYUg5whwAIJECsl3DjOT94SVaW8wfN6tXRvxZLygHhIQACcdbYKJWWxmYJt8DSbTznBy8KLC1XXBzd6wSWlGNYGOgZARCIo1jN8A0UcmbpNnhdZaW0fXtsCkkzUxjoGQEQiJM1a5wVDCKVmekMGb/0krOyAit4wBZZWc5zrQ888GVvXjTPB06f7vwxBuBLBEAgDhoanPIu0TyDtHKlUzSXCR6wWSyeD/T7nccm6AkEvkQABGIoFrX9eM4P6CrwfGA0tQNZUxj4EgEQiJFoa/sFSrvwnB/QvSNrBw4a5P74zk7poYecCVmlpUwQgd0IgECU/H6n5ES0tf0o7QIcW6yWlPvwQyaIwG4EQCBCgeBXWOgEt0ixhBvgXqyWlGMpOdiKAAhEIDDcW1cnffqp++OPnOHLEm5A5ALDwpHOFGYpOdgqw5hoViK1m8/nU35+vtrb25UXTbEqpJWGhuh761avpscPiDV+NhEu7t/0AAKuRFvbLyvLeQ1uMEDsTZvmBLhonqOlZiBsQQAEwhSL2n6//71zkwIQH5dd5tTQjFSgZiBrCcPrCIBAGKLt+aO2H5A4sVhTuK6OUjHwNgIg0IvATN9Ie/5YwxdIjiPXFL7hBmfilVuUioGX9Ul2A4BU1djo3Dh27Yrs+Pp66bbbqOsHJEtgTeFzz5UmTYq8B376dGeGMY9vwEvoAQS60dDg/OUfSfgLDPfW1hL+gFQRzVJyrCUMLyIAAkeIZi1flnIDUlu0NQNZSxheQh3AKFBHyFsaG6Vrrol8OTfqhwHpI9qagcXFzrrC/LGXnrh/0wMIRL2WL7X9gPQTGBIeMSKy45kggnRHAITVGhulkSOjW8uX2n5AeqqslD74wJmwFSkKRyNdEQBhrWgmekjOEBC1/YD0lpXlTNiKdAURJoggXREAYaVoCzvX1zs1xnj+B/CGaFcQoScQ6YYACOtEs6Rb4Hk/SrwA3hPNWsL0BCLdEABhlWh7/njeD/A2egJhCwIgrBFNzx9r+QL2iGYt4UBP4MKF1ApEaiMAwgqR9vyxli9gp2jXEq6rk0pLnUoDQCoiAMLTAjX+Iun5q6+Xdu/meT/AVoG1hB96SFq1yv3x1ApEKiMAwrMirfHHRA8AR4tmggjPBSIVEQDhSdHU+GOiB4DuRDpBhBnCSEWeCoBLlixRaWmpcnNzVVZWpg0bNvS6/4MPPqhRo0apb9++Kikp0U033aR//vOfCWot4iXS5/1Y0g3AsdATCK/wTABctWqVqqurVVdXp02bNmns2LGaMmWKdu/e3e3+TzzxhObPn6+6ujpt2bJFy5cv16pVq3TrrbcmuOWIpWhm+tLzByAc9ATCCzwTAO+//37NmTNHs2fP1umnn66lS5eqX79+WrFiRbf7//nPf9Y555yjK664QqWlpbrgggs0ffr0Y/YaInXR8wcgUQKlYkaMcH8sPYFIBZ4IgB0dHdq4caMqKiqC2zIzM1VRUaHm5uZuj5k4caI2btwYDHzvv/++1q5dq+9973sJaTNii54/AIlWWSl98IFTMcANagUiFXgiAO7Zs0d+v19FRUUh24uKitTS0tLtMVdccYUWLlyob33rWzruuON04okn6txzz+11CPjQoUPy+XwhH0i+SHv+iosp7gwgOllZTsWASJ4LpFYgkskTATAS69ev11133aVf//rX2rRpkxobG/Xss8/qjjvu6PGYRYsWKT8/P/hRUlKSwBbjaNHW+Nu+neLOAGIj0ucCqRWIZMkwxphkNyJaHR0d6tevnxoaGnTJJZcEt8+cOVOfffaZnn766S7HTJo0SWeffbbuueee4Lb/+q//0jXXXKP9+/crs5uy74cOHdKhQ4eC//b5fCopKVF7e7vy8vJie1LoVWOjU53fbZmXrCznlzRDvgDiYc0a5xk/t3+U8rspsXw+n/Lz862+f3uiBzA7O1vjx49XU1NTcFtnZ6eamppUXl7e7TEHDx7sEvKy/n//fU+ZOCcnR3l5eSEfSDxq/AFIVcwQRrrwRACUpOrqai1btkyPP/64tmzZomuvvVYHDhzQ7NmzJUkzZsxQTU1NcP+LLrpIjzzyiFauXKlt27bphRde0O23366LLrooGASRepjpCyDVUSsQ6aBPshsQK1VVVWpra1Ntba1aWlo0btw4rVu3LjgxZMeOHSE9fgsWLFBGRoYWLFigXbt2qbCwUBdddJHuvPPOZJ0CjiEw0zcS9PwBSKTLLpMyMtz/0RnoCVy9mj9YEV+eeAYwWXiGIHF4rgZAOuJ55dTE/dtDQ8DwLmr8AUhX1ApEqiIAIqVR4w9AuqNWIFIRARApq7GRGn8AvCOaWoHTphECEVsEQKSkjg5p7lx3xwRm+tbWRjb7DgDiLdIZwsZI8+YxHIzYIQAi5TQ2Ogust7W5O47n/QCkg2h6AilUgVghACKlBIo879kT/jHU+AOQbiLtCayro1g0YoMAiJQR6YQPev4ApKNIewIpFo1YIAAiJURS6oWePwDpbto0p2LBiBHhH0OJGMQCARBJR88fAJtFWiuQEjGIBgEQSeP3O3/Buu35Kyykxh8AbwnUCnQbAj/80HlumucC4RZLwUWBpWQiF+nySIWFzi+87Oz4tAsAksnvd3r1PvzQ3XEsHecO9296AJEEjY3OLym34U+Sli4l/AHwrqws6aGH3B8XeC6Q4WCEiwCIhPL7nWKmbvudAxM+WN0DgNdVVkZWIkaiWDTCRwBEQt15p/uhDYkJHwDsQrFoxBsBEAnT0ODMWnODUi8AbBVJiRiJYtEIDwEQCUGpFwBwL9ISMRSLxrEQABF3kRR5Li6m1AsASF+WiHHzXCDFonEsBEDEVSQ9f/X10vbtTPgAgCNF8lwgxaLREwIg4qax0X3PX32985duJLPfAMDrpk2LrFj0tGmEQISiEHQUKCTZs44OZxi3rS38Y4qLnZ4/wh8A9CzSYtH8jv0S9296ABEHjY3OrDU34U9yip/yiwkAehdpsWhKxOBIBEDEVEODsy7lnj3hH0ORZwBwJ9Ji0ZSIQQABEDFDqRcASJxIi0VTIgYSARAxEkmpF4o8A0B0IikWHSgRQ0+g3QiAiBo9fwCQPBSLRiQIgIhKJKVeCgsp8gwAsRQoFu0mBAZ6AikPYyfKwETB9mnkkZQiKCx09s/OjluzAMBa/F4Oj+33b4keQEThzjvd16FautSuXzIAkEiRlIhpa3NqBNITaBcCIFzz+531Jevqwj+GUi8AkBiRlIhpa3NKeDExxB59kt0ApJfGRumGG6Rdu9wdx4QPAEicyy6TMjLcP2s9fbpzHL+vvY8eQIStsdH5peAm/FHqBQCSY9o09z2BTAyxBwEQYfH7pXnzJLdThuj5A4DkibRY9Lx57qo7IP0QABGWSCZ81NfT8wcAyRYoFl1QEP4xrBvsfZSBiYIt08gbGtwHueJiaft29+tUAgDio6PD+d3c1hb+MatXe/MPeVvu372hBxC9imSVj4wMpwwB4Q8AUkd2tlOKyw1WC/EuAiB6FMkqH8XFzi8Lyr0AQOpxWyKGSSHeRQBEtwKTPtyor3eGfQl/AJC6IpkYMneuM4QM7yAAoltuJ33U1zvrUDLsCwCpb9o0d+sGs1qI9zAJJApefIjU73fCn5tVPpjwAQDpJ5J1gyVvTAzx4v3bLXoAEdTYKI0c6S78SUz4AIB0FMm6wRITQ7yCAAhJ0a3ywTN/AJCeIlk3mIkh3kAABKt8AIDFWC3ETgRAsMoHAFiO1ULswySQKHjhIVJW+QAABESyWkh9vXTbbel1T/DC/Tta9ABajFU+AABHimS1kLo6ZzYxzwSmFwKgpVjlAwDQnUgmhnz4oTOMTAhMHwRAC3V0OFXd3WCVDwCwRyQTQ4xhYkg6IQBaprFRGjHC/fMdrPIBAHZxu1qIxMSQdMIkkCik20OkgVp/bq44Ez4AwF6Rrhby3/+d2iNG6Xb/jgd6AC0Raa0/JnwAgL0Cq4VkZLg7jqHg1EcAtITbWn+s8gEAkJz7QEOD8/hQuBgKTn0EQAs0NLhf35dVPgAAAZWV0gcfuHsmsK7O6UhAaiIAepzbWn+Fhc6zG6zyAQA4UlaWMyHQTQicPt3phEDqIQB6mNtaf4WFTrc9w74AgJ7cdpszQTAcfr/ToUB9wNRDAPSowKQPN5YudarAAwDQk8DEEDfmznVq0CJ1EAA9yu2kj/p6ev4AAOGprHQ3FNzW5vQa0hOYOjwVAJcsWaLS0lLl5uaqrKxMGzZs6HX/zz77TNddd52GDRumnJwcnXLKKVq7dm2CWhs/jY3uJn0UFztd+gAAhMvNULDkhECWi0sdngmAq1atUnV1terq6rRp0yaNHTtWU6ZM0e7du7vdv6OjQ//yL/+i7du3q6GhQe+8846WLVumEW7muaegSJZ5o9YfAMCtSIaCWS4udXgmAN5///2aM2eOZs+erdNPP11Lly5Vv379tGLFim73X7Fihfbu3aunnnpK55xzjkpLSzV58mSNHTs2wS2PHbfLvFHrDwAQjcpKafVqd50I1AhMDZ4IgB0dHdq4caMqKiqC2zIzM1VRUaHm5uZuj3nmmWdUXl6u6667TkVFRRo9erTuuusu+dP0z5KGBunSS6U9e8I/hlp/AIBoXXaZtHKlu2OoEZh8ngiAe/bskd/vV1FRUcj2oqIitbS0dHvM+++/r4aGBvn9fq1du1a333677rvvPv385z/v8escOnRIPp8v5CMVuK31JzkP71LrDwAQC9OmOTVkCwrCP4YagcnliQAYic7OTg0ZMkS//e1vNX78eFVVVem2227T0qVLezxm0aJFys/PD36UlJQksMXdc1vrT2LSBwAg9iorpV27nJqy4aBGYHJ5IgAWFBQoKytLra2tIdtbW1s1dOjQbo8ZNmyYTjnlFGUd8eDCaaedppaWFnX0UKyopqZG7e3twY+dO3fG7iQiEEmtv4wMJn0AAOIjO9upKesGk0KSwxMBMDs7W+PHj1dTU1NwW2dnp5qamlReXt7tMeecc462bt2qzs7O4LZ//OMfGjZsmLJ7qIack5OjvLy8kI9kclvrr7DQ6W5n0gcAIF7c1ghkUkhyeCIASlJ1dbWWLVumxx9/XFu2bNG1116rAwcOaPbs2ZKkGTNmqKamJrj/tddeq71792revHn6xz/+oWeffVZ33XWXrrvuumSdgitua/2xzBsAIFHc1gisq2MoONH6JLsBsVJVVaW2tjbV1taqpaVF48aN07p164ITQ3bs2KHMzC/zbklJiZ5//nnddNNNOuOMMzRixAjNmzdPt9xyS7JOIWws8wYASGWBGoGXXhr+MXPnSt//PveqRMkwxphkNyJd+Xw+5efnq729PaHDwQsXht/7l5XlTM+n3AsAINHWrHFm+4b7jF9hodNhEe/RqmTdv1OJZ4aAbeD3uwt/ErX+AADJ47ZGYFub02tIjcD4IwCmicZGaeRId+GPWn8AgGSbNs3dpBCJGoGJwBBwFBLVhdzY6PwAublSxcXS9u2UewEAJJ/fL5WWuqtcITnFpeMxHMwQMD2AKS8w4cNtTKfWHwAgVQQmhWRkuDuOGoHxQwBMcW5r/UlOVzvlXgAAqaSy0hnWdbNcHDUC44ch4CjEuwu5sdHdFHqJoV8AQGrr6HDuVW1t4R8T66FghoDpAUxZLPMGAPAilotLDQTAFOV26Le4mGXeAADpobJSWr06/A4LhoJjjwCYgtwu81Zf7wz7Ev4AAOnCbY1AlouLLQJginE79FtfL9XWMuwLAEg/bmsE3ngjQ8GxQgBMMW6GfouLnQW3AQBIV7fd5tzPwrFzp/Tyy/Ftjy0IgCnE7dAvEz4AAOkuUCMwXB9/HL+22IQAmCIiGfrlmT8AgBdUVoY/FDxsWHzbYgsCYIp4+WWGfgEA9jrWUHBGhlRSIk2alLg2eRkBMEW46dJm6BcA4DVHLhd39JJxgX8/+CD3v1ghAKaIcLu0GfoFAHhVYLm4ESNCt1PrNvZYCi4KsVxKxu+XSkulXbuknq4Iy7wBAGzg9zuPRn38sdNBMmlSbO99LAUn9Ul2A+AIdH1Pm+Z0dR8ZAgNd3wz9AgBskJUlnXtuslvhbQwBpxC6vgEAQCLQA5hiKiuliy+Ob9c3AACwGwEwBdH1DQAA4okhYAAAAMsQAAEAACxDAAQAALAMARAAAMAyBEAAAADLEAABAAAsQwAEAACwDAEQAADAMgRAAAAAyxAAAQAALEMABAAAsAwBEAAAwDIEQAAAAMsQAAEAACxDAAQAALAMARAAAMAyBEAAAADLEAABAAAsQwAEAACwDAEQAADAMgRAAAAAyxAAAQAALEMABAAAsAwBEAAAwDIEQAAAAMsQAAEAACxDAAQAALAMARAAAMAyBEAAAADLEAABAAAsQwAEAACwDAEQAADAMgRAAAAAyxAAAQAALEMABAAAsAwBEAAAwDKeCoBLlixRaWmpcnNzVVZWpg0bNoR13MqVK5WRkaFLLrkkvg0EAABIAZ4JgKtWrVJ1dbXq6uq0adMmjR07VlOmTNHu3bt7PW779u36yU9+okmTJiWopQAAAMnlmQB4//33a86cOZo9e7ZOP/10LV26VP369dOKFSt6PMbv9+tHP/qR6uvrdcIJJySwtQAAAMnjiQDY0dGhjRs3qqKiIrgtMzNTFRUVam5u7vG4hQsXasiQIbr66qvD+jqHDh2Sz+cL+QAAAEg3ngiAe/bskd/vV1FRUcj2oqIitbS0dHvMK6+8ouXLl2vZsmVhf51FixYpPz8/+FFSUhJVuwEAAJLBEwHQrX379unKK6/UsmXLVFBQEPZxNTU1am9vD37s3Lkzjq0EAACIjz7JbkAsFBQUKCsrS62trSHbW1tbNXTo0C77v/fee9q+fbsuuuii4LbOzk5JUp8+ffTOO+/oxBNP7HJcTk6OcnJyYtx6AACAxPJED2B2drbGjx+vpqam4LbOzk41NTWpvLy8y/6nnnqq3njjDb3++uvBjx/84Ac677zz9PrrrzO0CwAAPM0TPYCSVF1drZkzZ+qss87ShAkT9OCDD+rAgQOaPXu2JGnGjBkaMWKEFi1apNzcXI0ePTrk+IEDB0pSl+0AAABe45kAWFVVpba2NtXW1qqlpUXjxo3TunXrghNDduzYocxMT3R4AgAARCXDGGOS3Yh05fP5lJ+fr/b2duXl5SW7OQAAIAzcvz3yDCAAAADCRwAEAACwDAEQAADAMgRAAAAAyxAAAQAALEMABAAAsAwBEAAAwDIEQAAAAMsQAAEAACxDAAQAALAMARAAAMAyBEAAAADLEAABAAAsQwAEAACwDAEQAADAMgRAAAAAyxAAAQAALEMABAAAsAwBEAAAwDIEQAAAAMsQAAEAACxDAAQAALAMARAAAMAyBEAAAADLEAABAAAsQwAEAACwDAEQAADAMgRAAAAAyxAAAQAALEMABAAAsAwBEAAAwDIEQAAAAMsQAAEAACxDAAQAALAMARAAAMAyBEAAAADLEAABAAAsQwAEAACwDAEQAADAMgRAAAAAyxAAAQAALEMABAAAsAwBEAAAwDIEQAAAAMsQAAEAACxDAAQAALAMARAAAMAyBEAAAADLEAABAAAsQwAEAACwDAEQAADAMgRAAAAAyxAAAQAALEMABAAAsAwBEAAAwDIEQAAAAMt4KgAuWbJEpaWlys3NVVlZmTZs2NDjvsuWLdOkSZM0aNAgDRo0SBUVFb3uDwAA4BWeCYCrVq1SdXW16urqtGnTJo0dO1ZTpkzR7t27u91//fr1mj59ul566SU1NzerpKREF1xwgXbt2pXglgMAACRWhjHGJLsRsVBWVqZvfvObevjhhyVJnZ2dKikp0fXXX6/58+cf83i/369Bgwbp4Ycf1owZM8L6mj6fT/n5+Wpvb1deXl5U7QcAAInB/dsjPYAdHR3auHGjKioqgtsyMzNVUVGh5ubmsF7j4MGD+uKLLzR48OAe9zl06JB8Pl/IBwAAQLrxRADcs2eP/H6/ioqKQrYXFRWppaUlrNe45ZZbNHz48JAQebRFixYpPz8/+FFSUhJVuwEAAJLBEwEwWosXL9bKlSv15JNPKjc3t8f9ampq1N7eHvzYuXNnAlsJAAAQG32S3YBYKCgoUFZWllpbW0O2t7a2aujQob0ee++992rx4sV68cUXdcYZZ/S6b05OjnJycqJuLwAAQDJ5ogcwOztb48ePV1NTU3BbZ2enmpqaVF5e3uNxv/jFL3THHXdo3bp1OuussxLRVAAAgKTzRA+gJFVXV2vmzJk666yzNGHCBD344IM6cOCAZs+eLUmaMWOGRowYoUWLFkmS7r77btXW1uqJJ55QaWlp8FnB/v37q3///kk7DwAAgHjzTACsqqpSW1ubamtr1dLSonHjxmndunXBiSE7duxQZuaXHZ6PPPKIOjo6NG3atJDXqaur089+9rNENh0AACChPFMHMBmoIwQAQPrh/u2RZwABAAAQPgIgAACAZQiAAAAAliEAAgAAWIYACAAAYBkCIAAAgGUIgAAAAJYhAAIAAFiGAAgAAGAZAiAAAIBlCIAAAACWIQACAABYhgAIAABgGQIgAACAZQiAAAAAliEAAgAAWIYACAAAYBkCIAAAgGUIgAAAAJYhAAIAAFiGAAgAAGAZAiAAAIBlCIAAAACWIQACAABYhgAIAABgGQIgAACAZQiAAAAAliEAAgAAWIYACAAAYBkCIAAAgGUIgAAAAJYhAAIAAFiGAAgAAGAZAiAAAIBlCIAAAACWIQACAABYhgAIAABgGQIgAACAZQiAAAAAliEAAgAAWIYACAAAYBkCIAAAgGUIgAAAAJYhAAIAAFiGAAgAAGAZAiAAAIBlCIAAAACWIQACAABYhgAIAABgGQIgAACAZQiAAAAAliEAAgAAWIYACAAAYBkCIAAAgGUIgAAAAJbpk+wGAEBKysjous2YxLcDAOLAUz2AS5YsUWlpqXJzc1VWVqYNGzb0uv+aNWt06qmnKjc3V2PGjNHatWsT1FIAKa278NfbdgBIM54JgKtWrVJ1dbXq6uq0adMmjR07VlOmTNHu3bu73f/Pf/6zpk+frquvvlqbN2/WJZdcoksuuURvvvlmglsOIKUcK+QRAgF4QIYx3hjTKCsr0ze/+U09/PDDkqTOzk6VlJTo+uuv1/z587vsX1VVpQMHDuh//ud/gtvOPvtsjRs3TkuXLg3ra/p8PuXn56u9vV15eXmxOREAyeMm3HnjVydgJe7fHukB7Ojo0MaNG1VRURHclpmZqYqKCjU3N3d7THNzc8j+kjRlypQe95ekQ4cOyefzhXwAAACkG08EwD179sjv96uoqChke1FRkVpaWro9pqWlxdX+krRo0SLl5+cHP0pKSqJvPAAAQIJ5IgAmSk1Njdrb24MfO3fuTHaTAAAAXPNEGZiCggJlZWWptbU1ZHtra6uGDh3a7TFDhw51tb8k5eTkKCcnJ/oGAwAAJJEnegCzs7M1fvx4NTU1Bbd1dnaqqalJ5eXl3R5TXl4esr8kvfDCCz3uD8AC4U7sYAIIgDTniR5ASaqurtbMmTN11llnacKECXrwwQd14MABzZ49W5I0Y8YMjRgxQosWLZIkzZs3T5MnT9Z9992nqVOnauXKlXrttdf029/+NpmnASDZjOl9NjDhD4AHeCYAVlVVqa2tTbW1tWppadG4ceO0bt264ESPHTt2KDPzyw7PiRMn6oknntCCBQt066236uSTT9ZTTz2l0aNHJ+sUAKSKnkIg4Q+AR3imDmAyUEcIAID0w/3bI88AAgAAIHwEQAAAAMsQAAEAACxDAAQAALAMARAAAMAyBEAAAADLEAABAAAsQwAEAACwDAEQAADAMp5ZCi4ZAouo+Hy+JLcEAACEK3DftnkxNAJgFPbt2ydJKikpSXJLAACAW/v27VN+fn6ym5EUrAUchc7OTn300UcaMGCAMrpbOD4KPp9PJSUl2rlzpyfXKfT6+UneP0evn5/EOXqB189P4hwjYYzRvn37NHz4cGVm2vk0HD2AUcjMzFRxcXFcv0ZeXp5nf6Al75+f5P1z9Pr5SZyjF3j9/CTO0S1be/4C7Iy9AAAAFiMAAgAAWIYAmKJycnJUV1ennJycZDclLrx+fpL3z9Hr5ydxjl7g9fOTOEdEhkkgAAAAlqEHEAAAwDIEQAAAAMsQAAEAACxDAAQAALAMATBJ7rzzTk2cOFH9+vXTwIEDwzrGGKPa2loNGzZMffv2VUVFhd59992Qffbu3asf/ehHysvL08CBA3X11Vdr//79cTiDY3Pblu3btysjI6PbjzVr1gT36+7zK1euTMQphYjke33uued2afvcuXND9tmxY4emTp2qfv36aciQIbr55pt1+PDheJ5Kj9ye4969e3X99ddr1KhR6tu3r44//njdcMMNam9vD9kvmddwyZIlKi0tVW5ursrKyrRhw4Ze91+zZo1OPfVU5ebmasyYMVq7dm3I58P5uUwkN+e3bNkyTZo0SYMGDdKgQYNUUVHRZf9Zs2Z1uVYXXnhhvE+jV27O8bHHHuvS/tzc3JB9Uu0aSu7OsbvfKxkZGZo6dWpwn1S6jn/84x910UUXafjw4crIyNBTTz11zGPWr1+vb3zjG8rJydFJJ52kxx57rMs+bn+2rWeQFLW1teb+++831dXVJj8/P6xjFi9ebPLz881TTz1l/vrXv5of/OAH5mtf+5r5/PPPg/tceOGFZuzYseYvf/mLefnll81JJ51kpk+fHqez6J3bthw+fNh8/PHHIR/19fWmf//+Zt++fcH9JJlHH300ZL8jvweJEsn3evLkyWbOnDkhbW9vbw9+/vDhw2b06NGmoqLCbN682axdu9YUFBSYmpqaeJ9Ot9ye4xtvvGEqKyvNM888Y7Zu3WqamprMySefbC699NKQ/ZJ1DVeuXGmys7PNihUrzFtvvWXmzJljBg4caFpbW7vd/09/+pPJysoyv/jFL8zbb79tFixYYI477jjzxhtvBPcJ5+cyUdye3xVXXGGWLFliNm/ebLZs2WJmzZpl8vPzzYcffhjcZ+bMmebCCy8MuVZ79+5N1Cl14fYcH330UZOXlxfS/paWlpB9UukaGuP+HD/55JOQ83vzzTdNVlaWefTRR4P7pNJ1XLt2rbnttttMY2OjkWSefPLJXvd///33Tb9+/Ux1dbV5++23za9+9SuTlZVl1q1bF9zH7fcMxhAAk+zRRx8NKwB2dnaaoUOHmnvuuSe47bPPPjM5OTnm97//vTHGmLfffttIMv/3f/8X3Oe5554zGRkZZteuXTFve29i1ZZx48aZq666KmRbOL8w4i3S85s8ebKZN29ej59fu3atyczMDLlBPfLIIyYvL88cOnQoJm0PV6yu4erVq012drb54osvgtuSdQ0nTJhgrrvuuuC//X6/GT58uFm0aFG3+//whz80U6dODdlWVlZm/u3f/s0YE97PZSK5Pb+jHT582AwYMMA8/vjjwW0zZ840F198caybGjG353is37Gpdg2Nif46PvDAA2bAgAFm//79wW2pdh0Dwvld8NOf/tR8/etfD9lWVVVlpkyZEvx3tN8zGzEEnCa2bdumlpYWVVRUBLfl5+errKxMzc3NkqTm5mYNHDhQZ511VnCfiooKZWZm6tVXX01oe2PRlo0bN+r111/X1Vdf3eVz1113nQoKCjRhwgStWLFCJsHlLKM5v9/97ncqKCjQ6NGjVVNTo4MHD4a87pgxY1RUVBTcNmXKFPl8Pr311luxP5FexOr91N7erry8PPXpE7r0eKKvYUdHhzZu3BjyM5SZmamKiorgz9DRmpubQ/aXnOsR2D+cn8tEieT8jnbw4EF98cUXGjx4cMj29evXa8iQIRo1apSuvfZaffLJJzFte7giPcf9+/dr5MiRKikp0cUXXxzys5RK11CKzXVcvny5Lr/8cn3lK18J2Z4q19GtY/0cxuJ7ZqM+x94FqaClpUWSQoJB4N+Bz7W0tGjIkCEhn+/Tp48GDx4c3CdRYtGW5cuX67TTTtPEiRNDti9cuFDf+c531K9fP/3hD3/Qv//7v2v//v264YYbYtb+Y4n0/K644gqNHDlSw4cP19/+9jfdcssteuedd9TY2Bh83e6uceBziRSLa7hnzx7dcccduuaaa0K2J+Ma7tmzR36/v9vv79///vduj+npehz5MxfY1tM+iRLJ+R3tlltu0fDhw0NupBdeeKEqKyv1ta99Te+9955uvfVWffe731Vzc7OysrJieg7HEsk5jho1SitWrNAZZ5yh9vZ23XvvvZo4caLeeustFRcXp9Q1lKK/jhs2bNCbb76p5cuXh2xPpevoVk8/hz6fT59//rk+/fTTqN/7NiIAxtD8+fN1991397rPli1bdOqppyaoRbEX7jlG6/PPP9cTTzyh22+/vcvnjtx25pln6sCBA7rnnntiEh7ifX5HBqExY8Zo2LBhOv/88/Xee+/pxBNPjPh13UjUNfT5fJo6dapOP/10/exnPwv5XDyvISKzePFirVy5UuvXrw+ZJHH55ZcH/3/MmDE644wzdOKJJ2r9+vU6//zzk9FUV8rLy1VeXh7898SJE3XaaafpN7/5je64444ktiw+li9frjFjxmjChAkh29P9OiL2CIAx9OMf/1izZs3qdZ8TTjghotceOnSoJKm1tVXDhg0Lbm9tbdW4ceOC++zevTvkuMOHD2vv3r3B46MV7jlG25aGhgYdPHhQM2bMOOa+ZWVluuOOO3To0KGo14lM1PkFlJWVSZK2bt2qE088UUOHDu0yc621tVWS0uoa7tu3TxdeeKEGDBigJ598Uscdd1yv+8fyGvakoKBAWVlZwe9nQGtra4/nM3To0F73D+fnMlEiOb+Ae++9V4sXL9aLL76oM844o9d9TzjhBBUUFGjr1q0JDw7RnGPAcccdpzPPPFNbt26VlFrXUIruHA8cOKCVK1dq4cKFx/w6ybyObvX0c5iXl6e+ffsqKysr6veFlZL9EKLt3E4Cuffee4Pb2tvbu50E8tprrwX3ef7555M6CSTStkyePLnLzNGe/PznPzeDBg2KuK2RiNX3+pVXXjGSzF//+ldjzJeTQI6cufab3/zG5OXlmX/+85+xO4EwRHqO7e3t5uyzzzaTJ082Bw4cCOtrJeoaTpgwwfzHf/xH8N9+v9+MGDGi10kg3//+90O2lZeXd5kE0tvPZSK5PT9jjLn77rtNXl6eaW5uDutr7Ny502RkZJinn3466vZGIpJzPNLhw4fNqFGjzE033WSMSb1raEzk5/joo4+anJwcs2fPnmN+jWRfxwCFOQlk9OjRIdumT5/eZRJINO8LGxEAk+SDDz4wmzdvDpY52bx5s9m8eXNIuZNRo0aZxsbG4L8XL15sBg4caJ5++mnzt7/9zVx88cXdloE588wzzauvvmpeeeUVc/LJJye1DExvbfnwww/NqFGjzKuvvhpy3LvvvmsyMjLMc8891+U1n3nmGbNs2TLzxhtvmHfffdf8+te/Nv369TO1tbVxP5+juT2/rVu3moULF5rXXnvNbNu2zTz99NPmhBNOMN/+9reDxwTKwFxwwQXm9ddfN+vWrTOFhYVJLQPj5hzb29tNWVmZGTNmjNm6dWtIyYnDhw8bY5J7DVeuXGlycnLMY489Zt5++21zzTXXmIEDBwZnXV955ZVm/vz5wf3/9Kc/mT59+ph7773XbNmyxdTV1XVbBuZYP5eJ4vb8Fi9ebLKzs01DQ0PItQr8Htq3b5/5yU9+Ypqbm822bdvMiy++aL7xjW+Yk08+OeF/kER6jvX19eb555837733ntm4caO5/PLLTW5urnnrrbeC+6TSNTTG/TkGfOtb3zJVVVVdtqfaddy3b1/wnifJ3H///Wbz5s3mgw8+MMYYM3/+fHPllVcG9w+Ugbn55pvNli1bzJIlS7otA9Pb9wxdEQCTZObMmUZSl4+XXnopuI/+f620gM7OTnP77beboqIik5OTY84//3zzzjvvhLzuJ598YqZPn2769+9v8vLyzOzZs0NCZSIdqy3btm3rcs7GGFNTU2NKSkqM3+/v8prPPfecGTdunOnfv7/5yle+YsaOHWuWLl3a7b7x5vb8duzYYb797W+bwYMHm5ycHHPSSSeZm2++OaQOoDHGbN++3Xz3u981ffv2NQUFBebHP/5xSAmVRHJ7ji+99FK372tJZtu2bcaY5F/DX/3qV+b444832dnZZsKECeYvf/lL8HOTJ082M2fODNl/9erV5pRTTjHZ2dnm61//unn22WdDPh/Oz2UiuTm/kSNHdnut6urqjDHGHDx40FxwwQWmsLDQHHfccWbkyJFmzpw5Sb+pujnHG2+8MbhvUVGR+d73vmc2bdoU8nqpdg2Ncf8+/fvf/24kmT/84Q9dXivVrmNPvycC5zRz5kwzefLkLseMGzfOZGdnmxNOOCHk3hjQ2/cMXWUYk+D6GQAAAEgq6gACAABYhgAIAABgGQIgAACAZQiAAAAAliEAAgAAWIYACAAAYBkCIAAAgGUIgAAAAJYhAAIAAFiGAAgAAGAZAiAAAIBlCIAAAACWIQACAABYhgAIAABgGQIgAACAZQiAAAAAliEAAgAAWIYACAAAYBkCIAAAgGUIgAAAAJYhAAIAAFiGAAgAAGAZAiAAAIBlCIAAAACWIQACAABYhgAIAABgGQIgAACAZQiAAAAAliEAAgAAWIYACAAAYBkCIAAAgGX+H0LEXl7D0TbWAAAAAElFTkSuQmCC' width=640.0/>\n",
       "            </div>\n",
       "        "
      ],
      "text/plain": [
       "Canvas(toolbar=Toolbar(toolitems=[('Home', 'Reset original view', 'home', 'home'), ('Back', 'Back to previous …"
      ]
     },
     "metadata": {},
     "output_type": "display_data"
    }
   ],
   "source": [
    "from ipywidgets import GridspecLayout\n",
    "from math import cos\n",
    "network_fig = plt.figure()\n",
    "\n",
    "\n",
    "\n",
    "\"\"\"\n",
    "model = {layer1: {inputs=1,neurons=3},\n",
    "layer2: {inputs=3,neurons=3},\n",
    "layer1: {inputs=3,neurons=2}}\n",
    "\"\"\"\n",
    "\n",
    "\n",
    "\n",
    "param = dict(value=0.0, min=-5.0, max=5.0, step=0.1, orientation='vertical')\n",
    "def s(a):\n",
    "    return widgets.FloatSlider(**param,description=a)\n",
    "\n",
    "\n",
    "\n",
    "def update_weights_and_biases_for_network(l1w11,l1w21,l1w31,\n",
    "                                            l1b1,l1b2,l1b3,\n",
    "                                            l2w11,l2w12,l2w13,l2w21,l2w22,l2w23,l2w31,l2w32,l2w33,\n",
    "                                            l2b1,l2b2,l2b3,\n",
    "                                            l3w11,l3w12,l3w13,l3w21,l3w22,l3w23,\n",
    "                                            l3b1,l3b2):\n",
    "    layer1_weights = [[l1w11],[l1w21],[l1w31]]\n",
    "    layer2_weights = [[l2w11,l2w12,l2w13],[l2w21,l2w22,l2w23],[l2w31,l2w32,l2w33]]\n",
    "    layer3_weights = [[l3w11,l3w12,l3w13],[l3w21,l3w22,l3w23]]\n",
    "    layer1_bias=[l1b1,l1b2,l1b3]\n",
    "    layer2_bias=[l2b1,l2b2,l2b3]\n",
    "    layer3_bias=[l3b1,l3b2]\n",
    "\n",
    "\n",
    "\n",
    "    plt.clf()\n",
    "    x_point_neuron1_output = network_fig.add_subplot(1, 1, 1)\n",
    "    for i in range(-100,100):\n",
    "        layer1 = dense_layer([i/100], 3, relu,layer1_weights, layer1_bias)\n",
    "        layer2 = dense_layer(layer1, 3, relu,layer2_weights, layer2_bias)\n",
    "        layer3 = dense_layer(layer2, 2, lin,layer3_weights, layer3_bias)\n",
    "        x_point_neuron1_output = layer3[0]\n",
    "        y_point_neuron2_output = layer3[1]\n",
    "        #plt.scatter(x,y, c='b', marker='x', label='1')\n",
    "        #plt.scatter(x, y, c='r', marker='s', label='-1')\n",
    "        plt.scatter(i/100,cos(i/100), color=\"blue\")\n",
    "        plt.scatter(x_point_neuron1_output, y_point_neuron2_output, color=\"red\")\n",
    "        #plt.plot(x_point_neuron1_output, y_point_neuron2_output, marker='o', markersize=3, color=\"red\")\n",
    "    neuron_fig.canvas.draw_idle()\n",
    "\n",
    "\n",
    "\n",
    "layer1 = [\"l1w11\",\"l1w21\",\"l1w31\",\"l1b1\",\"l1b2\",\"l1b3\"]\n",
    "layer2 = [\"l2w11\",\"l2w12\",\"l2w13\",\"l2w21\",\"l2w22\",\"l2w23\",\"l2w31\",\"l2w32\",\"l2w33\",\"l2b1\",\"l2b2\",\"l2b3\"]\n",
    "layer3 = [\"l3w11\",\"l3w12\",\"l3w13\",\"l3w21\",\"l3w22\",\"l3w23\",\"l3b1\",\"l3b2\"]\n",
    "network = [layer1,layer2,layer3]\n",
    "\n",
    "grid = GridspecLayout(4, 13, height='650px')\n",
    "control_dict = {}\n",
    "for i in range(len(network)):\n",
    "    for j in range(len(network[i])):\n",
    "        grid[i, j] = s(network[i][j])\n",
    "        control_dict.update( {network[i][j] : grid[i,j]} )\n",
    "grid[3,0] = interactive_output(update_weights_and_biases_for_network, control_dict)\n",
    "grid"
   ]
  },
  {
   "cell_type": "markdown",
   "metadata": {},
   "source": [
    "Loss function"
   ]
  },
  {
   "cell_type": "code",
   "execution_count": 20,
   "metadata": {},
   "outputs": [
    {
     "ename": "NameError",
     "evalue": "name 'labels' is not defined",
     "output_type": "error",
     "traceback": [
      "\u001b[0;31m---------------------------------------------------------------------------\u001b[0m",
      "\u001b[0;31mNameError\u001b[0m                                 Traceback (most recent call last)",
      "\u001b[0;32m<ipython-input-20-c167ed11f110>\u001b[0m in \u001b[0;36m<module>\u001b[0;34m\u001b[0m\n\u001b[0;32m----> 1\u001b[0;31m \u001b[0msum\u001b[0m\u001b[0;34m(\u001b[0m\u001b[0mlabels\u001b[0m\u001b[0;34m-\u001b[0m\u001b[0mpredictions\u001b[0m\u001b[0;34m)\u001b[0m\u001b[0;34m/\u001b[0m\u001b[0mlen\u001b[0m\u001b[0;34m(\u001b[0m\u001b[0mlabels\u001b[0m\u001b[0;34m)\u001b[0m\u001b[0;34m\u001b[0m\u001b[0;34m\u001b[0m\u001b[0m\n\u001b[0m",
      "\u001b[0;31mNameError\u001b[0m: name 'labels' is not defined"
     ]
    }
   ],
   "source": []
  },
  {
   "cell_type": "code",
   "execution_count": null,
   "metadata": {},
   "outputs": [],
   "source": []
  }
 ],
 "metadata": {
  "kernelspec": {
   "display_name": "Python 3",
   "language": "python",
   "name": "python3"
  },
  "language_info": {
   "codemirror_mode": {
    "name": "ipython",
    "version": 3
   },
   "file_extension": ".py",
   "mimetype": "text/x-python",
   "name": "python",
   "nbconvert_exporter": "python",
   "pygments_lexer": "ipython3",
   "version": "3.8.10"
  }
 },
 "nbformat": 4,
 "nbformat_minor": 4
}
