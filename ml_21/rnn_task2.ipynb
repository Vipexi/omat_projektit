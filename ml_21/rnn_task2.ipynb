{
 "cells": [
  {
   "cell_type": "code",
   "execution_count": 1,
   "metadata": {},
   "outputs": [
    {
     "name": "stdout",
     "output_type": "stream",
     "text": [
      "2.7.0\n"
     ]
    },
    {
     "data": {
      "text/plain": [
       "[]"
      ]
     },
     "execution_count": 1,
     "metadata": {},
     "output_type": "execute_result"
    }
   ],
   "source": [
    "import tensorflow as tf\n",
    "\n",
    "import numpy as np\n",
    "import matplotlib.pyplot as plt\n",
    "\n",
    "print(tf.__version__)\n",
    "tf.config.list_physical_devices('GPU')"
   ]
  },
  {
   "cell_type": "code",
   "execution_count": 2,
   "metadata": {},
   "outputs": [],
   "source": [
    "fashion_mnist = tf.keras.datasets.fashion_mnist\n",
    "(train_images, train_labels) , (test_images, test_labels) = fashion_mnist.load_data()\n",
    "\n",
    "class_names = ['T-shirt/top', 'Trousers', 'Pullover', 'Dress', 'Coat',\n",
    "              'Sandals', 'Shirt', 'Sneakers', 'Bag', 'Ankle boot']"
   ]
  },
  {
   "cell_type": "code",
   "execution_count": 3,
   "metadata": {},
   "outputs": [],
   "source": [
    "train_images = train_images / 255.0\n",
    "test_images = test_images / 255.0"
   ]
  },
  {
   "cell_type": "code",
   "execution_count": 4,
   "metadata": {},
   "outputs": [],
   "source": [
    "model = tf.keras.Sequential([\n",
    "    tf.keras.layers.Flatten(input_shape= (28,28)),\n",
    "    tf.keras.layers.Dense(128, activation='relu'),\n",
    "    tf.keras.layers.Dense(10)\n",
    "])\n",
    "\n",
    "model.compile(optimizer='adam',\n",
    "             loss=tf.keras.losses.SparseCategoricalCrossentropy(from_logits = True),\n",
    "             metrics=['accuracy'])"
   ]
  },
  {
   "cell_type": "code",
   "execution_count": 5,
   "metadata": {},
   "outputs": [],
   "source": [
    "from tensorflow import keras\n",
    "from tensorflow.keras import layers"
   ]
  },
  {
   "cell_type": "code",
   "execution_count": 6,
   "metadata": {},
   "outputs": [],
   "source": [
    "def get_model1():\n",
    "    inputs = keras.Input(shape=(28,28))\n",
    "    flatten = layers.Flatten(input_shape=(28,28))(inputs)\n",
    "    hidden1 = layers.Dense(512, activation=\"relu\")(flatten)\n",
    "    outputs = layers.Dense(10)(hidden1)\n",
    "    return keras.Model(inputs, outputs)\n",
    "\n",
    "\n",
    "def get_model2():\n",
    "    inputs = keras.Input(shape=(28,28))\n",
    "    flatten = layers.Flatten(input_shape=(28,28))(inputs)\n",
    "    hidden1 = layers.Dense(512, activation=\"relu\")(flatten)\n",
    "    hidden2 = layers.Dense(256, activation=\"relu\")(hidden1)\n",
    "    outputs = layers.Dense(10)(hidden1)\n",
    "    return keras.Model(inputs, outputs)\n",
    "\n",
    "def get_model3():\n",
    "    inputs = keras.Input(shape=(28,28))\n",
    "    flatten = layers.Flatten(input_shape=(28,28))(inputs)\n",
    "    hidden1 = layers.Dense(512, activation=\"relu\")(flatten)\n",
    "    hidden2 = layers.Dense(256, activation=\"relu\")(hidden1)\n",
    "    hidden3 = layers.Dense(128, activation=\"relu\")(hidden2)\n",
    "    outputs = layers.Dense(10)(hidden3)\n",
    "    return keras.Model(inputs, outputs)\n",
    "\n",
    "def get_model4():\n",
    "    inputs = keras.Input(shape=(28,28))\n",
    "    flatten = layers.Flatten(input_shape=(28,28))(inputs)\n",
    "    hidden1 = layers.Dense(512, activation=\"relu\")(flatten)\n",
    "    hidden2 = layers.Dense(256, activation=\"relu\")(hidden1)\n",
    "    hidden3 = layers.Dense(128, activation=\"relu\")(hidden2)\n",
    "    hidden4 = layers.Dense(64, activation=\"relu\")(hidden3)\n",
    "    outputs = layers.Dense(10)(hidden4)\n",
    "    return keras.Model(inputs, outputs)"
   ]
  },
  {
   "cell_type": "code",
   "execution_count": 7,
   "metadata": {},
   "outputs": [],
   "source": [
    "model1 = get_model1()\n",
    "model2 = get_model1()\n",
    "model3 = get_model1()\n",
    "\n",
    "model4 = get_model2()\n",
    "model5 = get_model2()\n",
    "model6 = get_model2()\n",
    "\n",
    "model7 = get_model3()\n",
    "model8 = get_model3()\n",
    "model9 = get_model3()\n",
    "\n",
    "model10 = get_model4()\n",
    "model11 = get_model4()\n",
    "model12 = get_model4()\n",
    "\n",
    "inputs = keras.Input(shape=(28,28))\n",
    "\n",
    "y1 = model1(inputs)\n",
    "y2 = model2(inputs)\n",
    "y3 = model3(inputs)\n",
    "\n",
    "y4 = model4(inputs)\n",
    "y5 = model5(inputs)\n",
    "y6 = model6(inputs)\n",
    "\n",
    "y7 = model7(inputs)\n",
    "y8 = model8(inputs)\n",
    "y9 = model9(inputs)\n",
    "\n",
    "y10 = model10(inputs)\n",
    "y11 = model11(inputs)\n",
    "y12 = model12(inputs)\n",
    "\n",
    "outputs1 = layers.average([y1, y2, y3])\n",
    "parallel_model1 = keras.Model(inputs=inputs, outputs=outputs1)\n",
    "\n",
    "outputs2 = layers.average([y4, y5, y6])\n",
    "parallel_model2 = keras.Model(inputs=inputs, outputs=outputs2)\n",
    "\n",
    "outputs3 = layers.average([y7, y8, y9])\n",
    "parallel_model3 = keras.Model(inputs=inputs, outputs=outputs3)\n",
    "\n",
    "outputs4 = layers.average([y10, y11, y12])\n",
    "parallel_model4 = keras.Model(inputs=inputs, outputs=outputs4)"
   ]
  },
  {
   "cell_type": "code",
   "execution_count": 8,
   "metadata": {},
   "outputs": [
    {
     "name": "stdout",
     "output_type": "stream",
     "text": [
      "Model: \"model_12\"\n",
      "__________________________________________________________________________________________________\n",
      " Layer (type)                   Output Shape         Param #     Connected to                     \n",
      "==================================================================================================\n",
      " input_13 (InputLayer)          [(None, 28, 28)]     0           []                               \n",
      "                                                                                                  \n",
      " model (Functional)             (None, 10)           407050      ['input_13[0][0]']               \n",
      "                                                                                                  \n",
      " model_1 (Functional)           (None, 10)           407050      ['input_13[0][0]']               \n",
      "                                                                                                  \n",
      " model_2 (Functional)           (None, 10)           407050      ['input_13[0][0]']               \n",
      "                                                                                                  \n",
      " average (Average)              (None, 10)           0           ['model[0][0]',                  \n",
      "                                                                  'model_1[0][0]',                \n",
      "                                                                  'model_2[0][0]']                \n",
      "                                                                                                  \n",
      "==================================================================================================\n",
      "Total params: 1,221,150\n",
      "Trainable params: 1,221,150\n",
      "Non-trainable params: 0\n",
      "__________________________________________________________________________________________________\n"
     ]
    }
   ],
   "source": [
    "parallel_model1.summary()"
   ]
  },
  {
   "cell_type": "code",
   "execution_count": 9,
   "metadata": {},
   "outputs": [],
   "source": [
    "parallel_model1.compile(optimizer=\"adam\", \n",
    "                      loss=keras.losses.SparseCategoricalCrossentropy(from_logits = True),\n",
    "             metrics=['accuracy'])\n",
    "\n",
    "parallel_model2.compile(optimizer=\"adam\", \n",
    "                      loss=keras.losses.SparseCategoricalCrossentropy(from_logits = True),\n",
    "             metrics=['accuracy'])\n",
    "\n",
    "parallel_model3.compile(optimizer=\"adam\", \n",
    "                      loss=keras.losses.SparseCategoricalCrossentropy(from_logits = True),\n",
    "             metrics=['accuracy'])\n",
    "\n",
    "parallel_model4.compile(optimizer=\"adam\", \n",
    "                      loss=keras.losses.SparseCategoricalCrossentropy(from_logits = True),\n",
    "             metrics=['accuracy'])"
   ]
  },
  {
   "cell_type": "code",
   "execution_count": 10,
   "metadata": {},
   "outputs": [
    {
     "name": "stdout",
     "output_type": "stream",
     "text": [
      "Epoch 1/10\n",
      "8/8 [==============================] - 5s 328ms/step - loss: 1.4000 - accuracy: 0.5496\n",
      "Epoch 2/10\n",
      "8/8 [==============================] - 3s 331ms/step - loss: 0.7173 - accuracy: 0.7488\n",
      "Epoch 3/10\n",
      "8/8 [==============================] - 2s 297ms/step - loss: 0.6017 - accuracy: 0.7969\n",
      "Epoch 4/10\n",
      "8/8 [==============================] - 3s 302ms/step - loss: 0.5400 - accuracy: 0.8188\n",
      "Epoch 5/10\n",
      "8/8 [==============================] - 3s 335ms/step - loss: 0.5042 - accuracy: 0.8289\n",
      "Epoch 6/10\n",
      "8/8 [==============================] - 3s 338ms/step - loss: 0.4786 - accuracy: 0.8367\n",
      "Epoch 7/10\n",
      "8/8 [==============================] - 3s 372ms/step - loss: 0.4587 - accuracy: 0.8442\n",
      "Epoch 8/10\n",
      "8/8 [==============================] - 3s 327ms/step - loss: 0.4438 - accuracy: 0.8498\n",
      "Epoch 9/10\n",
      "8/8 [==============================] - 3s 305ms/step - loss: 0.4300 - accuracy: 0.8532\n",
      "Epoch 10/10\n",
      "8/8 [==============================] - 3s 336ms/step - loss: 0.4178 - accuracy: 0.8572\n",
      "Epoch 1/10\n",
      "8/8 [==============================] - 4s 343ms/step - loss: 1.3771 - accuracy: 0.5656\n",
      "Epoch 2/10\n",
      "8/8 [==============================] - 3s 339ms/step - loss: 0.7099 - accuracy: 0.7557\n",
      "Epoch 3/10\n",
      "8/8 [==============================] - 4s 480ms/step - loss: 0.5951 - accuracy: 0.8000\n",
      "Epoch 4/10\n",
      "8/8 [==============================] - 4s 503ms/step - loss: 0.5337 - accuracy: 0.8203\n",
      "Epoch 5/10\n",
      "8/8 [==============================] - 3s 352ms/step - loss: 0.4981 - accuracy: 0.8302\n",
      "Epoch 6/10\n",
      "8/8 [==============================] - 3s 428ms/step - loss: 0.4755 - accuracy: 0.8379\n",
      "Epoch 7/10\n",
      "8/8 [==============================] - 3s 373ms/step - loss: 0.4550 - accuracy: 0.8450\n",
      "Epoch 8/10\n",
      "8/8 [==============================] - 3s 380ms/step - loss: 0.4403 - accuracy: 0.8501\n",
      "Epoch 9/10\n",
      "8/8 [==============================] - 8s 898ms/step - loss: 0.4285 - accuracy: 0.8542\n",
      "Epoch 10/10\n",
      "8/8 [==============================] - 3s 329ms/step - loss: 0.4166 - accuracy: 0.8583\n",
      "Epoch 1/10\n",
      "8/8 [==============================] - 7s 592ms/step - loss: 1.4252 - accuracy: 0.5688\n",
      "Epoch 2/10\n",
      "8/8 [==============================] - 5s 560ms/step - loss: 0.7225 - accuracy: 0.7372\n",
      "Epoch 3/10\n",
      "8/8 [==============================] - 5s 660ms/step - loss: 0.5940 - accuracy: 0.7867\n",
      "Epoch 4/10\n",
      "8/8 [==============================] - 5s 568ms/step - loss: 0.5127 - accuracy: 0.8202\n",
      "Epoch 5/10\n",
      "8/8 [==============================] - 4s 520ms/step - loss: 0.4678 - accuracy: 0.8365\n",
      "Epoch 6/10\n",
      "8/8 [==============================] - 5s 647ms/step - loss: 0.4379 - accuracy: 0.8464\n",
      "Epoch 7/10\n",
      "8/8 [==============================] - 5s 599ms/step - loss: 0.4263 - accuracy: 0.8480\n",
      "Epoch 8/10\n",
      "8/8 [==============================] - 4s 507ms/step - loss: 0.4039 - accuracy: 0.8589\n",
      "Epoch 9/10\n",
      "8/8 [==============================] - 4s 504ms/step - loss: 0.3908 - accuracy: 0.8627\n",
      "Epoch 10/10\n",
      "8/8 [==============================] - 4s 499ms/step - loss: 0.3724 - accuracy: 0.8687\n",
      "Epoch 1/10\n",
      "8/8 [==============================] - 6s 508ms/step - loss: 1.5572 - accuracy: 0.5609\n",
      "Epoch 2/10\n",
      "8/8 [==============================] - 4s 521ms/step - loss: 0.7236 - accuracy: 0.7405\n",
      "Epoch 3/10\n",
      "8/8 [==============================] - 4s 522ms/step - loss: 0.5747 - accuracy: 0.8006\n",
      "Epoch 4/10\n",
      "8/8 [==============================] - 4s 486ms/step - loss: 0.5403 - accuracy: 0.8028\n",
      "Epoch 5/10\n",
      "8/8 [==============================] - 4s 512ms/step - loss: 0.4853 - accuracy: 0.8271\n",
      "Epoch 6/10\n",
      "8/8 [==============================] - 4s 508ms/step - loss: 0.4421 - accuracy: 0.8453\n",
      "Epoch 7/10\n",
      "8/8 [==============================] - 4s 507ms/step - loss: 0.4180 - accuracy: 0.8558\n",
      "Epoch 8/10\n",
      "8/8 [==============================] - 4s 480ms/step - loss: 0.3980 - accuracy: 0.8626\n",
      "Epoch 9/10\n",
      "8/8 [==============================] - 4s 479ms/step - loss: 0.3888 - accuracy: 0.8630\n",
      "Epoch 10/10\n",
      "8/8 [==============================] - 4s 484ms/step - loss: 0.4023 - accuracy: 0.8556\n"
     ]
    },
    {
     "data": {
      "text/plain": [
       "<keras.callbacks.History at 0x7f5a2c5c8460>"
      ]
     },
     "execution_count": 10,
     "metadata": {},
     "output_type": "execute_result"
    }
   ],
   "source": [
    "parallel_model1.fit(train_images, train_labels, epochs=10, batch_size=8192) #batch_size= 8192\n",
    "parallel_model2.fit(train_images, train_labels, epochs=10, batch_size=8192)\n",
    "parallel_model3.fit(train_images, train_labels, epochs=10, batch_size=8192)\n",
    "parallel_model4.fit(train_images, train_labels, epochs=10, batch_size=8192)\n"
   ]
  },
  {
   "cell_type": "code",
   "execution_count": 18,
   "metadata": {},
   "outputs": [],
   "source": [
    "#merge=layers.concatenate([parallel_model1.output, parallel_model2.output, parallel_model3.output, parallel_model4.output])"
   ]
  },
  {
   "cell_type": "code",
   "execution_count": null,
   "metadata": {},
   "outputs": [],
   "source": []
  },
  {
   "cell_type": "code",
   "execution_count": 20,
   "metadata": {},
   "outputs": [
    {
     "name": "stdout",
     "output_type": "stream",
     "text": [
      "(None, 40)\n"
     ]
    }
   ],
   "source": [
    "print(merge.shape)"
   ]
  },
  {
   "cell_type": "code",
   "execution_count": 19,
   "metadata": {},
   "outputs": [
    {
     "ename": "AttributeError",
     "evalue": "'KerasTensor' object has no attribute 'evaluate'",
     "output_type": "error",
     "traceback": [
      "\u001b[0;31m---------------------------------------------------------------------------\u001b[0m",
      "\u001b[0;31mAttributeError\u001b[0m                            Traceback (most recent call last)",
      "\u001b[0;32m<ipython-input-19-2287ac1355ff>\u001b[0m in \u001b[0;36m<module>\u001b[0;34m\u001b[0m\n\u001b[0;32m----> 1\u001b[0;31m \u001b[0mtest_loss\u001b[0m\u001b[0;34m,\u001b[0m \u001b[0mtest_acc\u001b[0m \u001b[0;34m=\u001b[0m \u001b[0mmerge\u001b[0m\u001b[0;34m.\u001b[0m\u001b[0mevaluate\u001b[0m\u001b[0;34m(\u001b[0m\u001b[0mtest_images\u001b[0m\u001b[0;34m,\u001b[0m \u001b[0mtest_labels\u001b[0m\u001b[0;34m,\u001b[0m \u001b[0mverbose\u001b[0m\u001b[0;34m=\u001b[0m\u001b[0;36m2\u001b[0m\u001b[0;34m)\u001b[0m\u001b[0;34m\u001b[0m\u001b[0;34m\u001b[0m\u001b[0m\n\u001b[0m\u001b[1;32m      2\u001b[0m \u001b[0;31m#test_loss, test_acc = parallel_model2.evaluate(test_images, test_labels, verbose=2)\u001b[0m\u001b[0;34m\u001b[0m\u001b[0;34m\u001b[0m\u001b[0;34m\u001b[0m\u001b[0m\n\u001b[1;32m      3\u001b[0m \u001b[0;31m#test_loss, test_acc = parallel_model3.evaluate(test_images, test_labels, verbose=2)\u001b[0m\u001b[0;34m\u001b[0m\u001b[0;34m\u001b[0m\u001b[0;34m\u001b[0m\u001b[0m\n\u001b[1;32m      4\u001b[0m \u001b[0;31m#test_loss, test_acc = parallel_model4.evaluate(test_images, test_labels, verbose=2)\u001b[0m\u001b[0;34m\u001b[0m\u001b[0;34m\u001b[0m\u001b[0;34m\u001b[0m\u001b[0m\n",
      "\u001b[0;31mAttributeError\u001b[0m: 'KerasTensor' object has no attribute 'evaluate'"
     ]
    }
   ],
   "source": [
    "test_loss, test_acc = merge.evaluate(test_images, test_labels, verbose=2)\n",
    "#test_loss, test_acc = parallel_model2.evaluate(test_images, test_labels, verbose=2)\n",
    "#test_loss, test_acc = parallel_model3.evaluate(test_images, test_labels, verbose=2)\n",
    "#test_loss, test_acc = parallel_model4.evaluate(test_images, test_labels, verbose=2)"
   ]
  },
  {
   "cell_type": "code",
   "execution_count": null,
   "metadata": {},
   "outputs": [],
   "source": []
  }
 ],
 "metadata": {
  "kernelspec": {
   "display_name": "Python 3",
   "language": "python",
   "name": "python3"
  },
  "language_info": {
   "codemirror_mode": {
    "name": "ipython",
    "version": 3
   },
   "file_extension": ".py",
   "mimetype": "text/x-python",
   "name": "python",
   "nbconvert_exporter": "python",
   "pygments_lexer": "ipython3",
   "version": "3.8.10"
  }
 },
 "nbformat": 4,
 "nbformat_minor": 4
}
