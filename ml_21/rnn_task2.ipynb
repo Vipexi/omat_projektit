{
 "cells": [
  {
   "cell_type": "code",
   "execution_count": 1,
   "metadata": {},
   "outputs": [
    {
     "name": "stdout",
     "output_type": "stream",
     "text": [
      "2.7.0\n"
     ]
    },
    {
     "data": {
      "text/plain": [
       "[]"
      ]
     },
     "execution_count": 1,
     "metadata": {},
     "output_type": "execute_result"
    }
   ],
   "source": [
    "import tensorflow as tf\n",
    "\n",
    "import numpy as np\n",
    "import matplotlib.pyplot as plt\n",
    "\n",
    "print(tf.__version__)\n",
    "tf.config.list_physical_devices('GPU')"
   ]
  },
  {
   "cell_type": "code",
   "execution_count": 2,
   "metadata": {},
   "outputs": [],
   "source": [
    "fashion_mnist = tf.keras.datasets.fashion_mnist\n",
    "(train_images, train_labels) , (test_images, test_labels) = fashion_mnist.load_data()\n",
    "\n",
    "class_names = ['T-shirt/top', 'Trousers', 'Pullover', 'Dress', 'Coat',\n",
    "              'Sandals', 'Shirt', 'Sneakers', 'Bag', 'Ankle boot']"
   ]
  },
  {
   "cell_type": "code",
   "execution_count": 3,
   "metadata": {},
   "outputs": [],
   "source": [
    "train_images = train_images / 255.0\n",
    "test_images = test_images / 255.0"
   ]
  },
  {
   "cell_type": "code",
   "execution_count": 4,
   "metadata": {},
   "outputs": [],
   "source": [
    "from tensorflow import keras\n",
    "from tensorflow.keras import layers"
   ]
  },
  {
   "cell_type": "code",
   "execution_count": 5,
   "metadata": {},
   "outputs": [],
   "source": [
    "def get_model1():\n",
    "    inputs = keras.Input(shape=(28,28))\n",
    "    flatten = layers.Flatten(input_shape=(28,28))(inputs)\n",
    "    hidden1 = layers.Dense(512, activation=\"relu\")(flatten)\n",
    "    outputs = layers.Dense(10)(hidden1)\n",
    "    return keras.Model(inputs, outputs)\n",
    "\n",
    "\n",
    "def get_model2():\n",
    "    inputs = keras.Input(shape=(28,28))\n",
    "    flatten = layers.Flatten(input_shape=(28,28))(inputs)\n",
    "    hidden1 = layers.Dense(512, activation=\"relu\")(flatten)\n",
    "    hidden2 = layers.Dense(256, activation=\"relu\")(hidden1)\n",
    "    outputs = layers.Dense(10)(hidden1)\n",
    "    return keras.Model(inputs, outputs)\n",
    "\n",
    "def get_model3():\n",
    "    inputs = keras.Input(shape=(28,28))\n",
    "    flatten = layers.Flatten(input_shape=(28,28))(inputs)\n",
    "    hidden1 = layers.Dense(512, activation=\"relu\")(flatten)\n",
    "    hidden2 = layers.Dense(256, activation=\"relu\")(hidden1)\n",
    "    hidden3 = layers.Dense(128, activation=\"relu\")(hidden2)\n",
    "    outputs = layers.Dense(10)(hidden3)\n",
    "    return keras.Model(inputs, outputs)\n",
    "\n",
    "def get_model4():\n",
    "    inputs = keras.Input(shape=(28,28))\n",
    "    flatten = layers.Flatten(input_shape=(28,28))(inputs)\n",
    "    hidden1 = layers.Dense(512, activation=\"relu\")(flatten)\n",
    "    hidden2 = layers.Dense(256, activation=\"relu\")(hidden1)\n",
    "    hidden3 = layers.Dense(128, activation=\"relu\")(hidden2)\n",
    "    hidden4 = layers.Dense(64, activation=\"relu\")(hidden3)\n",
    "    outputs = layers.Dense(10)(hidden4)\n",
    "    return keras.Model(inputs, outputs)"
   ]
  },
  {
   "cell_type": "code",
   "execution_count": 6,
   "metadata": {},
   "outputs": [
    {
     "name": "stdout",
     "output_type": "stream",
     "text": [
      "Epoch 1/10\n",
      "8/8 [==============================] - 1s 113ms/step - loss: 1.3888 - accuracy: 0.5384\n",
      "Epoch 2/10\n",
      "8/8 [==============================] - 1s 76ms/step - loss: 0.7309 - accuracy: 0.7461\n",
      "Epoch 3/10\n",
      "8/8 [==============================] - 1s 73ms/step - loss: 0.6089 - accuracy: 0.7926\n",
      "Epoch 4/10\n",
      "8/8 [==============================] - 1s 83ms/step - loss: 0.5481 - accuracy: 0.8135\n",
      "Epoch 5/10\n",
      "8/8 [==============================] - 1s 71ms/step - loss: 0.5095 - accuracy: 0.8258\n",
      "Epoch 6/10\n",
      "8/8 [==============================] - 1s 71ms/step - loss: 0.4816 - accuracy: 0.8360\n",
      "Epoch 7/10\n",
      "8/8 [==============================] - 1s 72ms/step - loss: 0.4624 - accuracy: 0.8428\n",
      "Epoch 8/10\n",
      "8/8 [==============================] - 1s 73ms/step - loss: 0.4472 - accuracy: 0.8470\n",
      "Epoch 9/10\n",
      "8/8 [==============================] - 0s 61ms/step - loss: 0.4335 - accuracy: 0.8511\n",
      "Epoch 10/10\n",
      "8/8 [==============================] - 0s 61ms/step - loss: 0.4218 - accuracy: 0.8548\n",
      "Epoch 1/10\n",
      "8/8 [==============================] - 1s 93ms/step - loss: 1.3677 - accuracy: 0.5641\n",
      "Epoch 2/10\n",
      "8/8 [==============================] - 1s 91ms/step - loss: 0.7110 - accuracy: 0.7541\n",
      "Epoch 3/10\n",
      "8/8 [==============================] - 1s 68ms/step - loss: 0.5968 - accuracy: 0.7994\n",
      "Epoch 4/10\n",
      "8/8 [==============================] - 1s 64ms/step - loss: 0.5344 - accuracy: 0.8220\n",
      "Epoch 5/10\n",
      "8/8 [==============================] - 1s 65ms/step - loss: 0.4996 - accuracy: 0.8324\n",
      "Epoch 6/10\n",
      "8/8 [==============================] - 1s 71ms/step - loss: 0.4765 - accuracy: 0.8387\n",
      "Epoch 7/10\n",
      "8/8 [==============================] - 1s 69ms/step - loss: 0.4554 - accuracy: 0.8464\n",
      "Epoch 8/10\n",
      "8/8 [==============================] - 1s 79ms/step - loss: 0.4411 - accuracy: 0.8500\n",
      "Epoch 9/10\n",
      "8/8 [==============================] - 1s 71ms/step - loss: 0.4293 - accuracy: 0.8530\n",
      "Epoch 10/10\n",
      "8/8 [==============================] - 1s 72ms/step - loss: 0.4166 - accuracy: 0.8583\n",
      "Epoch 1/10\n",
      "8/8 [==============================] - 1s 93ms/step - loss: 1.5147 - accuracy: 0.5286\n",
      "Epoch 2/10\n",
      "8/8 [==============================] - 1s 100ms/step - loss: 0.7637 - accuracy: 0.7235\n",
      "Epoch 3/10\n",
      "8/8 [==============================] - 1s 103ms/step - loss: 0.6398 - accuracy: 0.7681\n",
      "Epoch 4/10\n",
      "8/8 [==============================] - 1s 97ms/step - loss: 0.5493 - accuracy: 0.8013\n",
      "Epoch 5/10\n",
      "8/8 [==============================] - 1s 92ms/step - loss: 0.4967 - accuracy: 0.8236\n",
      "Epoch 6/10\n",
      "8/8 [==============================] - 1s 96ms/step - loss: 0.4630 - accuracy: 0.8393\n",
      "Epoch 7/10\n",
      "8/8 [==============================] - 1s 94ms/step - loss: 0.4404 - accuracy: 0.8461\n",
      "Epoch 8/10\n",
      "8/8 [==============================] - 1s 101ms/step - loss: 0.4196 - accuracy: 0.8537\n",
      "Epoch 9/10\n",
      "8/8 [==============================] - 1s 149ms/step - loss: 0.4036 - accuracy: 0.8588\n",
      "Epoch 10/10\n",
      "8/8 [==============================] - 1s 91ms/step - loss: 0.3886 - accuracy: 0.8632\n",
      "Epoch 1/10\n",
      "8/8 [==============================] - 2s 161ms/step - loss: 1.7808 - accuracy: 0.4369\n",
      "Epoch 2/10\n",
      "8/8 [==============================] - 1s 108ms/step - loss: 0.8632 - accuracy: 0.7226\n",
      "Epoch 3/10\n",
      "8/8 [==============================] - 1s 99ms/step - loss: 0.6351 - accuracy: 0.7721\n",
      "Epoch 4/10\n",
      "8/8 [==============================] - 1s 120ms/step - loss: 0.5575 - accuracy: 0.7982\n",
      "Epoch 5/10\n",
      "8/8 [==============================] - 1s 117ms/step - loss: 0.5008 - accuracy: 0.8238\n",
      "Epoch 6/10\n",
      "8/8 [==============================] - 1s 111ms/step - loss: 0.4656 - accuracy: 0.8356\n",
      "Epoch 7/10\n",
      "8/8 [==============================] - 1s 95ms/step - loss: 0.4400 - accuracy: 0.8458\n",
      "Epoch 8/10\n",
      "8/8 [==============================] - 1s 96ms/step - loss: 0.4150 - accuracy: 0.8569\n",
      "Epoch 9/10\n",
      "8/8 [==============================] - 1s 99ms/step - loss: 0.4025 - accuracy: 0.8604\n",
      "Epoch 10/10\n",
      "8/8 [==============================] - 1s 100ms/step - loss: 0.3852 - accuracy: 0.8657\n"
     ]
    },
    {
     "data": {
      "text/plain": [
       "<keras.callbacks.History at 0x7f30acf17fd0>"
      ]
     },
     "execution_count": 6,
     "metadata": {},
     "output_type": "execute_result"
    }
   ],
   "source": [
    "model1 = get_model1()\n",
    "\n",
    "model1.compile(optimizer=\"adam\", \n",
    "                      loss=keras.losses.SparseCategoricalCrossentropy(from_logits = True),\n",
    "             metrics=['accuracy'])\n",
    "\n",
    "model1.fit(train_images, train_labels, epochs=10, batch_size=8192)\n",
    "\n",
    "\n",
    "model2 = get_model2()\n",
    "\n",
    "model2.compile(optimizer=\"adam\", \n",
    "                      loss=keras.losses.SparseCategoricalCrossentropy(from_logits = True),\n",
    "             metrics=['accuracy'])\n",
    "model2.fit(train_images, train_labels, epochs=10, batch_size=8192)\n",
    "\n",
    "model3 = get_model3()\n",
    "\n",
    "model3.compile(optimizer=\"adam\", \n",
    "                      loss=keras.losses.SparseCategoricalCrossentropy(from_logits = True),\n",
    "             metrics=['accuracy'])\n",
    "\n",
    "model3.fit(train_images, train_labels, epochs=10, batch_size=8192)\n",
    "\n",
    "\n",
    "model4 = get_model4()\n",
    "\n",
    "model4.compile(optimizer=\"adam\", \n",
    "                      loss=keras.losses.SparseCategoricalCrossentropy(from_logits = True),\n",
    "             metrics=['accuracy'])\n",
    "\n",
    "model4.fit(train_images, train_labels, epochs=10, batch_size=8192)"
   ]
  },
  {
   "cell_type": "code",
   "execution_count": 10,
   "metadata": {},
   "outputs": [
    {
     "data": {
      "image/png": "[encoded data removed]",
      "text/plain": [
       "<IPython.core.display.Image object>"
      ]
     },
     "execution_count": 10,
     "metadata": {},
     "output_type": "execute_result"
    }
   ],
   "source": [
    "inputs = keras.Input(shape=(28,28))\n",
    "\n",
    "y1 = model1(inputs)\n",
    "y2 = model2(inputs)\n",
    "y3 = model3(inputs)\n",
    "y4 = model4(inputs)\n",
    "\n",
    "outputs = layers.average([y1, y2, y3, y4])\n",
    "parallel_model = keras.Model(inputs=inputs, outputs=outputs)\n",
    "\n",
    "parallel_model.compile(optimizer=\"adam\", \n",
    "                      loss=keras.losses.SparseCategoricalCrossentropy(from_logits = True),\n",
    "             metrics=['accuracy'])\n",
    "\n",
    "keras.utils.plot_model(parallel_model, \"parallel_model.png\")"
   ]
  },
  {
   "cell_type": "code",
   "execution_count": 11,
   "metadata": {},
   "outputs": [
    {
     "name": "stdout",
     "output_type": "stream",
     "text": [
      "313/313 - 1s - loss: 0.4195 - accuracy: 0.8536 - 1s/epoch - 4ms/step\n"
     ]
    }
   ],
   "source": [
    "test_loss, test_acc = parallel_model.evaluate(test_images, test_labels, verbose=2)"
   ]
  },
  {
   "cell_type": "code",
   "execution_count": 12,
   "metadata": {},
   "outputs": [
    {
     "name": "stdout",
     "output_type": "stream",
     "text": [
      "Model: \"model_5\"\n",
      "__________________________________________________________________________________________________\n",
      " Layer (type)                   Output Shape         Param #     Connected to                     \n",
      "==================================================================================================\n",
      " input_6 (InputLayer)           [(None, 28, 28)]     0           []                               \n",
      "                                                                                                  \n",
      " model (Functional)             (None, 10)           407050      ['input_6[0][0]']                \n",
      "                                                                                                  \n",
      " model_1 (Functional)           (None, 10)           407050      ['input_6[0][0]']                \n",
      "                                                                                                  \n",
      " model_2 (Functional)           (None, 10)           567434      ['input_6[0][0]']                \n",
      "                                                                                                  \n",
      " model_3 (Functional)           (None, 10)           575050      ['input_6[0][0]']                \n",
      "                                                                                                  \n",
      " average_1 (Average)            (None, 10)           0           ['model[1][0]',                  \n",
      "                                                                  'model_1[1][0]',                \n",
      "                                                                  'model_2[1][0]',                \n",
      "                                                                  'model_3[1][0]']                \n",
      "                                                                                                  \n",
      "==================================================================================================\n",
      "Total params: 1,956,584\n",
      "Trainable params: 1,956,584\n",
      "Non-trainable params: 0\n",
      "__________________________________________________________________________________________________\n"
     ]
    }
   ],
   "source": [
    "parallel_model.summary()"
   ]
  },
  {
   "cell_type": "code",
   "execution_count": 13,
   "metadata": {},
   "outputs": [],
   "source": [
    "#parallel_model.compile(optimizer=\"adam\", \n",
    "                      #loss=keras.losses.SparseCategoricalCrossentropy(from_logits = True),\n",
    "             #metrics=['accuracy'])\n",
    "\n",
    "#keras.utils.plot_model(parallel_model, \"parallel_model.png\")"
   ]
  },
  {
   "cell_type": "code",
   "execution_count": 14,
   "metadata": {},
   "outputs": [
    {
     "name": "stdout",
     "output_type": "stream",
     "text": [
      "Epoch 1/10\n",
      "8/8 [==============================] - 3s 327ms/step - loss: 0.8697 - accuracy: 0.7599\n",
      "Epoch 2/10\n",
      "8/8 [==============================] - 3s 372ms/step - loss: 0.5080 - accuracy: 0.8256\n",
      "Epoch 3/10\n",
      "8/8 [==============================] - 3s 349ms/step - loss: 0.4482 - accuracy: 0.8464\n",
      "Epoch 4/10\n",
      "8/8 [==============================] - 3s 362ms/step - loss: 0.4167 - accuracy: 0.8579\n",
      "Epoch 5/10\n",
      "8/8 [==============================] - 3s 352ms/step - loss: 0.3949 - accuracy: 0.8633\n",
      "Epoch 6/10\n",
      "8/8 [==============================] - 3s 359ms/step - loss: 0.3798 - accuracy: 0.8682\n",
      "Epoch 7/10\n",
      "8/8 [==============================] - 3s 353ms/step - loss: 0.3697 - accuracy: 0.8706\n",
      "Epoch 8/10\n",
      "8/8 [==============================] - 3s 361ms/step - loss: 0.3592 - accuracy: 0.8731\n",
      "Epoch 9/10\n",
      "8/8 [==============================] - 3s 356ms/step - loss: 0.3496 - accuracy: 0.8766\n",
      "Epoch 10/10\n",
      "8/8 [==============================] - 3s 377ms/step - loss: 0.3403 - accuracy: 0.8796\n"
     ]
    },
    {
     "data": {
      "text/plain": [
       "<keras.callbacks.History at 0x7f3168c655e0>"
      ]
     },
     "execution_count": 14,
     "metadata": {},
     "output_type": "execute_result"
    }
   ],
   "source": [
    "parallel_model.fit(train_images, train_labels, epochs=10, batch_size=8192)\n"
   ]
  },
  {
   "cell_type": "code",
   "execution_count": 15,
   "metadata": {},
   "outputs": [
    {
     "name": "stdout",
     "output_type": "stream",
     "text": [
      "313/313 - 1s - loss: 0.3810 - accuracy: 0.8661 - 945ms/epoch - 3ms/step\n"
     ]
    }
   ],
   "source": [
    "test_loss, test_acc = parallel_model.evaluate(test_images, test_labels, verbose=2)"
   ]
  },
  {
   "cell_type": "markdown",
   "metadata": {},
   "source": [
    "The combined model did slightly better than when trained separately!"
   ]
  },
  {
   "cell_type": "code",
   "execution_count": null,
   "metadata": {},
   "outputs": [],
   "source": []
  }
 ],
 "metadata": {
  "kernelspec": {
   "display_name": "Python 3",
   "language": "python",
   "name": "python3"
  },
  "language_info": {
   "codemirror_mode": {
    "name": "ipython",
    "version": 3
   },
   "file_extension": ".py",
   "mimetype": "text/x-python",
   "name": "python",
   "nbconvert_exporter": "python",
   "pygments_lexer": "ipython3",
   "version": "3.8.10"
  }
 },
 "nbformat": 4,
 "nbformat_minor": 4
}
