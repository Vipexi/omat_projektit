{
 "cells": [
  {
   "cell_type": "code",
   "execution_count": 1,
   "metadata": {},
   "outputs": [
    {
     "name": "stdout",
     "output_type": "stream",
     "text": [
      "2.7.0\n"
     ]
    },
    {
     "data": {
      "text/plain": [
       "[]"
      ]
     },
     "execution_count": 1,
     "metadata": {},
     "output_type": "execute_result"
    }
   ],
   "source": [
    "import tensorflow as tf\n",
    "\n",
    "import numpy as np\n",
    "import matplotlib.pyplot as plt\n",
    "\n",
    "print(tf.__version__)\n",
    "tf.config.list_physical_devices('GPU')"
   ]
  },
  {
   "cell_type": "code",
   "execution_count": 2,
   "metadata": {},
   "outputs": [],
   "source": [
    "fashion_mnist = tf.keras.datasets.fashion_mnist\n",
    "(train_images, train_labels) , (test_images, test_labels) = fashion_mnist.load_data()\n",
    "\n",
    "class_names = ['T-shirt/top', 'Trousers', 'Pullover', 'Dress', 'Coat',\n",
    "              'Sandals', 'Shirt', 'Sneakers', 'Bag', 'Ankle boot']"
   ]
  },
  {
   "cell_type": "code",
   "execution_count": 3,
   "metadata": {},
   "outputs": [],
   "source": [
    "train_images = train_images / 255.0\n",
    "test_images = test_images / 255.0"
   ]
  },
  {
   "cell_type": "code",
   "execution_count": 4,
   "metadata": {},
   "outputs": [],
   "source": [
    "model = tf.keras.Sequential([\n",
    "    tf.keras.layers.Flatten(input_shape= (28,28)),\n",
    "    tf.keras.layers.Dense(128, activation='relu'),\n",
    "    tf.keras.layers.Dense(10)\n",
    "])\n",
    "\n",
    "model.compile(optimizer='adam',\n",
    "             loss=tf.keras.losses.SparseCategoricalCrossentropy(from_logits = True),\n",
    "             metrics=['accuracy'])"
   ]
  },
  {
   "cell_type": "code",
   "execution_count": 5,
   "metadata": {},
   "outputs": [],
   "source": [
    "from tensorflow import keras\n",
    "from tensorflow.keras import layers"
   ]
  },
  {
   "cell_type": "code",
   "execution_count": 6,
   "metadata": {},
   "outputs": [],
   "source": [
    "def get_model1():\n",
    "    inputs = keras.Input(shape=(28,28))\n",
    "    flatten = layers.Flatten(input_shape=(28,28))(inputs)\n",
    "    hidden1 = layers.Dense(512, activation=\"relu\")(flatten)\n",
    "    outputs = layers.Dense(10)(hidden1)\n",
    "    return keras.Model(inputs, outputs)\n",
    "\n",
    "\n",
    "def get_model2():\n",
    "    inputs = keras.Input(shape=(28,28))\n",
    "    flatten = layers.Flatten(input_shape=(28,28))(inputs)\n",
    "    hidden1 = layers.Dense(512, activation=\"relu\")(flatten)\n",
    "    hidden2 = layers.Dense(256, activation=\"relu\")(hidden1)\n",
    "    outputs = layers.Dense(10)(hidden1)\n",
    "    return keras.Model(inputs, outputs)\n",
    "\n",
    "def get_model3():\n",
    "    inputs = keras.Input(shape=(28,28))\n",
    "    flatten = layers.Flatten(input_shape=(28,28))(inputs)\n",
    "    hidden1 = layers.Dense(512, activation=\"relu\")(flatten)\n",
    "    hidden2 = layers.Dense(256, activation=\"relu\")(hidden1)\n",
    "    hidden3 = layers.Dense(128, activation=\"relu\")(hidden2)\n",
    "    outputs = layers.Dense(10)(hidden3)\n",
    "    return keras.Model(inputs, outputs)\n",
    "\n",
    "def get_model4():\n",
    "    inputs = keras.Input(shape=(28,28))\n",
    "    flatten = layers.Flatten(input_shape=(28,28))(inputs)\n",
    "    hidden1 = layers.Dense(512, activation=\"relu\")(flatten)\n",
    "    hidden2 = layers.Dense(256, activation=\"relu\")(hidden1)\n",
    "    hidden3 = layers.Dense(128, activation=\"relu\")(hidden2)\n",
    "    hidden4 = layers.Dense(64, activation=\"relu\")(hidden3)\n",
    "    outputs = layers.Dense(10)(hidden4)\n",
    "    return keras.Model(inputs, outputs)"
   ]
  },
  {
   "cell_type": "code",
   "execution_count": 7,
   "metadata": {},
   "outputs": [],
   "source": [
    "model1 = get_model1()\n",
    "model2 = get_model1()\n",
    "model3 = get_model1()\n",
    "\n",
    "model4 = get_model2()\n",
    "model5 = get_model2()\n",
    "model6 = get_model2()\n",
    "\n",
    "model7 = get_model3()\n",
    "model8 = get_model3()\n",
    "model9 = get_model3()\n",
    "\n",
    "model10 = get_model4()\n",
    "model11 = get_model4()\n",
    "model12 = get_model4()\n",
    "\n",
    "inputs = keras.Input(shape=(28,28))\n",
    "\n",
    "y1 = model1(inputs)\n",
    "y2 = model2(inputs)\n",
    "y3 = model3(inputs)\n",
    "\n",
    "y4 = model4(inputs)\n",
    "y5 = model5(inputs)\n",
    "y6 = model6(inputs)\n",
    "\n",
    "y7 = model7(inputs)\n",
    "y8 = model8(inputs)\n",
    "y9 = model9(inputs)\n",
    "\n",
    "y10 = model10(inputs)\n",
    "y11 = model11(inputs)\n",
    "y12 = model12(inputs)\n",
    "\n",
    "outputs1 = layers.average([y1, y2, y3])\n",
    "parallel_model1 = keras.Model(inputs=inputs, outputs=outputs1)\n",
    "\n",
    "outputs2 = layers.average([y4, y5, y6])\n",
    "parallel_model2 = keras.Model(inputs=inputs, outputs=outputs2)\n",
    "\n",
    "outputs3 = layers.average([y7, y8, y9])\n",
    "parallel_model3 = keras.Model(inputs=inputs, outputs=outputs3)\n",
    "\n",
    "outputs4 = layers.average([y10, y11, y12])\n",
    "parallel_model4 = keras.Model(inputs=inputs, outputs=outputs4)"
   ]
  },
  {
   "cell_type": "code",
   "execution_count": 8,
   "metadata": {},
   "outputs": [
    {
     "name": "stdout",
     "output_type": "stream",
     "text": [
      "Model: \"model_12\"\n",
      "__________________________________________________________________________________________________\n",
      " Layer (type)                   Output Shape         Param #     Connected to                     \n",
      "==================================================================================================\n",
      " input_13 (InputLayer)          [(None, 28, 28)]     0           []                               \n",
      "                                                                                                  \n",
      " model (Functional)             (None, 10)           407050      ['input_13[0][0]']               \n",
      "                                                                                                  \n",
      " model_1 (Functional)           (None, 10)           407050      ['input_13[0][0]']               \n",
      "                                                                                                  \n",
      " model_2 (Functional)           (None, 10)           407050      ['input_13[0][0]']               \n",
      "                                                                                                  \n",
      " average (Average)              (None, 10)           0           ['model[0][0]',                  \n",
      "                                                                  'model_1[0][0]',                \n",
      "                                                                  'model_2[0][0]']                \n",
      "                                                                                                  \n",
      "==================================================================================================\n",
      "Total params: 1,221,150\n",
      "Trainable params: 1,221,150\n",
      "Non-trainable params: 0\n",
      "__________________________________________________________________________________________________\n"
     ]
    }
   ],
   "source": [
    "parallel_model1.summary()"
   ]
  },
  {
   "cell_type": "code",
   "execution_count": 9,
   "metadata": {},
   "outputs": [],
   "source": [
    "parallel_model1.compile(optimizer=\"adam\", \n",
    "                      loss=keras.losses.SparseCategoricalCrossentropy(from_logits = True),\n",
    "             metrics=['accuracy'])\n",
    "\n",
    "parallel_model2.compile(optimizer=\"adam\", \n",
    "                      loss=keras.losses.SparseCategoricalCrossentropy(from_logits = True),\n",
    "             metrics=['accuracy'])\n",
    "\n",
    "parallel_model3.compile(optimizer=\"adam\", \n",
    "                      loss=keras.losses.SparseCategoricalCrossentropy(from_logits = True),\n",
    "             metrics=['accuracy'])\n",
    "\n",
    "parallel_model4.compile(optimizer=\"adam\", \n",
    "                      loss=keras.losses.SparseCategoricalCrossentropy(from_logits = True),\n",
    "             metrics=['accuracy'])"
   ]
  },
  {
   "cell_type": "code",
   "execution_count": 10,
   "metadata": {},
   "outputs": [
    {
     "name": "stdout",
     "output_type": "stream",
     "text": [
      "Epoch 1/10\n",
      "8/8 [==============================] - 3s 227ms/step - loss: 1.3947 - accuracy: 0.5688\n",
      "Epoch 2/10\n",
      "8/8 [==============================] - 2s 222ms/step - loss: 0.7059 - accuracy: 0.7576\n",
      "Epoch 3/10\n",
      "8/8 [==============================] - 2s 219ms/step - loss: 0.5960 - accuracy: 0.7991\n",
      "Epoch 4/10\n",
      "8/8 [==============================] - 2s 213ms/step - loss: 0.5365 - accuracy: 0.8179\n",
      "Epoch 5/10\n",
      "8/8 [==============================] - 2s 258ms/step - loss: 0.4987 - accuracy: 0.8311\n",
      "Epoch 6/10\n",
      "8/8 [==============================] - 2s 231ms/step - loss: 0.4759 - accuracy: 0.8391\n",
      "Epoch 7/10\n",
      "8/8 [==============================] - 2s 244ms/step - loss: 0.4573 - accuracy: 0.8442\n",
      "Epoch 8/10\n",
      "8/8 [==============================] - 2s 233ms/step - loss: 0.4431 - accuracy: 0.8488\n",
      "Epoch 9/10\n",
      "8/8 [==============================] - 2s 220ms/step - loss: 0.4283 - accuracy: 0.8547\n",
      "Epoch 10/10\n",
      "8/8 [==============================] - 2s 236ms/step - loss: 0.4179 - accuracy: 0.8570\n",
      "Epoch 1/10\n",
      "8/8 [==============================] - 3s 233ms/step - loss: 1.3680 - accuracy: 0.5662\n",
      "Epoch 2/10\n",
      "8/8 [==============================] - 2s 246ms/step - loss: 0.7186 - accuracy: 0.7494\n",
      "Epoch 3/10\n",
      "8/8 [==============================] - 2s 245ms/step - loss: 0.5999 - accuracy: 0.8000\n",
      "Epoch 4/10\n",
      "8/8 [==============================] - 2s 280ms/step - loss: 0.5395 - accuracy: 0.8182\n",
      "Epoch 5/10\n",
      "8/8 [==============================] - 2s 266ms/step - loss: 0.5007 - accuracy: 0.8307\n",
      "Epoch 6/10\n",
      "8/8 [==============================] - 2s 256ms/step - loss: 0.4784 - accuracy: 0.8384\n",
      "Epoch 7/10\n",
      "8/8 [==============================] - 2s 230ms/step - loss: 0.4600 - accuracy: 0.8429\n",
      "Epoch 8/10\n",
      "8/8 [==============================] - 2s 232ms/step - loss: 0.4444 - accuracy: 0.8481\n",
      "Epoch 9/10\n",
      "8/8 [==============================] - 2s 262ms/step - loss: 0.4294 - accuracy: 0.8536\n",
      "Epoch 10/10\n",
      "8/8 [==============================] - 2s 253ms/step - loss: 0.4191 - accuracy: 0.8569\n",
      "Epoch 1/10\n",
      "8/8 [==============================] - 5s 341ms/step - loss: 1.4345 - accuracy: 0.5733\n",
      "Epoch 2/10\n",
      "8/8 [==============================] - 3s 341ms/step - loss: 0.7185 - accuracy: 0.7421\n",
      "Epoch 3/10\n",
      "8/8 [==============================] - 3s 364ms/step - loss: 0.5772 - accuracy: 0.7982\n",
      "Epoch 4/10\n",
      "8/8 [==============================] - 3s 398ms/step - loss: 0.5044 - accuracy: 0.8237\n",
      "Epoch 5/10\n",
      "8/8 [==============================] - 3s 336ms/step - loss: 0.4618 - accuracy: 0.8392\n",
      "Epoch 6/10\n",
      "8/8 [==============================] - 3s 369ms/step - loss: 0.4410 - accuracy: 0.8449\n",
      "Epoch 7/10\n",
      "8/8 [==============================] - 3s 377ms/step - loss: 0.4269 - accuracy: 0.8487\n",
      "Epoch 8/10\n",
      "8/8 [==============================] - 3s 336ms/step - loss: 0.4010 - accuracy: 0.8585\n",
      "Epoch 9/10\n",
      "8/8 [==============================] - 3s 317ms/step - loss: 0.3868 - accuracy: 0.8632\n",
      "Epoch 10/10\n",
      "8/8 [==============================] - 3s 318ms/step - loss: 0.3698 - accuracy: 0.8701\n",
      "Epoch 1/10\n",
      "8/8 [==============================] - 4s 331ms/step - loss: 1.5562 - accuracy: 0.5410\n",
      "Epoch 2/10\n",
      "8/8 [==============================] - 3s 324ms/step - loss: 0.7643 - accuracy: 0.7218\n",
      "Epoch 3/10\n",
      "8/8 [==============================] - 3s 320ms/step - loss: 0.5942 - accuracy: 0.7884\n",
      "Epoch 4/10\n",
      "8/8 [==============================] - 3s 320ms/step - loss: 0.5179 - accuracy: 0.8190\n",
      "Epoch 5/10\n",
      "8/8 [==============================] - 3s 324ms/step - loss: 0.4677 - accuracy: 0.8374\n",
      "Epoch 6/10\n",
      "8/8 [==============================] - 3s 331ms/step - loss: 0.4503 - accuracy: 0.8411\n",
      "Epoch 7/10\n",
      "8/8 [==============================] - 3s 404ms/step - loss: 0.4306 - accuracy: 0.8483\n",
      "Epoch 8/10\n",
      "8/8 [==============================] - 3s 395ms/step - loss: 0.4176 - accuracy: 0.8526\n",
      "Epoch 9/10\n",
      "8/8 [==============================] - 3s 416ms/step - loss: 0.3975 - accuracy: 0.8593\n",
      "Epoch 10/10\n",
      "8/8 [==============================] - 3s 431ms/step - loss: 0.3758 - accuracy: 0.8680\n"
     ]
    },
    {
     "data": {
      "text/plain": [
       "<keras.callbacks.History at 0x7f86905c9490>"
      ]
     },
     "execution_count": 10,
     "metadata": {},
     "output_type": "execute_result"
    }
   ],
   "source": [
    "parallel_model1.fit(train_images, train_labels, epochs=10, batch_size=8192) #batch_size= 8192\n",
    "parallel_model2.fit(train_images, train_labels, epochs=10, batch_size=8192)\n",
    "parallel_model3.fit(train_images, train_labels, epochs=10, batch_size=8192)\n",
    "parallel_model4.fit(train_images, train_labels, epochs=10, batch_size=8192)\n"
   ]
  },
  {
   "cell_type": "code",
   "execution_count": 11,
   "metadata": {},
   "outputs": [
    {
     "name": "stdout",
     "output_type": "stream",
     "text": [
      "313/313 - 2s - loss: 0.4470 - accuracy: 0.8445 - 2s/epoch - 6ms/step\n",
      "313/313 - 2s - loss: 0.4495 - accuracy: 0.8451 - 2s/epoch - 6ms/step\n",
      "313/313 - 2s - loss: 0.4052 - accuracy: 0.8557 - 2s/epoch - 7ms/step\n",
      "313/313 - 3s - loss: 0.4151 - accuracy: 0.8524 - 3s/epoch - 8ms/step\n"
     ]
    }
   ],
   "source": [
    "test_loss, test_acc = parallel_model1.evaluate(test_images, test_labels, verbose=2)\n",
    "test_loss, test_acc = parallel_model2.evaluate(test_images, test_labels, verbose=2)\n",
    "test_loss, test_acc = parallel_model3.evaluate(test_images, test_labels, verbose=2)\n",
    "test_loss, test_acc = parallel_model4.evaluate(test_images, test_labels, verbose=2)"
   ]
  },
  {
   "cell_type": "code",
   "execution_count": 12,
   "metadata": {},
   "outputs": [
    {
     "name": "stdout",
     "output_type": "stream",
     "text": [
      "Model: \"model_16\"\n",
      "__________________________________________________________________________________________________\n",
      " Layer (type)                   Output Shape         Param #     Connected to                     \n",
      "==================================================================================================\n",
      " input_14 (InputLayer)          [(None, 28, 28)]     0           []                               \n",
      "                                                                                                  \n",
      " model_12 (Functional)          (None, 10)           1221150     ['input_14[0][0]']               \n",
      "                                                                                                  \n",
      " model_13 (Functional)          (None, 10)           1221150     ['input_14[0][0]']               \n",
      "                                                                                                  \n",
      " model_14 (Functional)          (None, 10)           1702302     ['input_14[0][0]']               \n",
      "                                                                                                  \n",
      " model_15 (Functional)          (None, 10)           1725150     ['input_14[0][0]']               \n",
      "                                                                                                  \n",
      " average_4 (Average)            (None, 10)           0           ['model_12[0][0]',               \n",
      "                                                                  'model_13[0][0]',               \n",
      "                                                                  'model_14[0][0]',               \n",
      "                                                                  'model_15[0][0]']               \n",
      "                                                                                                  \n",
      "==================================================================================================\n",
      "Total params: 5,869,752\n",
      "Trainable params: 5,869,752\n",
      "Non-trainable params: 0\n",
      "__________________________________________________________________________________________________\n"
     ]
    },
    {
     "data": {
      "image/png": "[encoded data removed]",
      "text/plain": [
       "<IPython.core.display.Image object>"
      ]
     },
     "execution_count": 12,
     "metadata": {},
     "output_type": "execute_result"
    }
   ],
   "source": [
    "inputs = keras.Input(shape=(28,28))\n",
    "\n",
    "trained_par1 = parallel_model1(inputs)\n",
    "trained_par2 = parallel_model2(inputs)\n",
    "trained_par3 = parallel_model3(inputs)\n",
    "trained_par4 = parallel_model4(inputs)\n",
    "\n",
    "outputs = layers.average([trained_par1, trained_par2, trained_par3, trained_par4])\n",
    "\n",
    "combined_para_model = keras.Model(inputs=inputs, outputs=outputs)\n",
    "combined_para_model.compile(optimizer=\"adam\", \n",
    "            loss=keras.losses.SparseCategoricalCrossentropy(from_logits = True),\n",
    "            metrics=['accuracy'])\n",
    "\n",
    "combined_para_model.summary()\n",
    "keras.utils.plot_model(combined_para_model, \"combined_para_model.png\")"
   ]
  },
  {
   "cell_type": "code",
   "execution_count": 15,
   "metadata": {},
   "outputs": [
    {
     "name": "stdout",
     "output_type": "stream",
     "text": [
      "Epoch 1/10\n",
      "8/8 [==============================] - 11s 1s/step - loss: 0.6741 - accuracy: 0.7824\n",
      "Epoch 2/10\n",
      "8/8 [==============================] - 9s 1s/step - loss: 0.4594 - accuracy: 0.8403\n",
      "Epoch 3/10\n",
      "8/8 [==============================] - 12s 1s/step - loss: 0.4183 - accuracy: 0.8575\n",
      "Epoch 4/10\n",
      "8/8 [==============================] - 15s 2s/step - loss: 0.3954 - accuracy: 0.8635\n",
      "Epoch 5/10\n",
      "8/8 [==============================] - 10s 1s/step - loss: 0.3809 - accuracy: 0.8675\n",
      "Epoch 6/10\n",
      "8/8 [==============================] - 9s 1s/step - loss: 0.3680 - accuracy: 0.8712\n",
      "Epoch 7/10\n",
      "8/8 [==============================] - 9s 1s/step - loss: 0.3581 - accuracy: 0.8743\n",
      "Epoch 8/10\n",
      "8/8 [==============================] - 10s 1s/step - loss: 0.3486 - accuracy: 0.8778\n",
      "Epoch 9/10\n",
      "8/8 [==============================] - 20s 3s/step - loss: 0.3396 - accuracy: 0.8803\n",
      "Epoch 10/10\n",
      "8/8 [==============================] - 10s 1s/step - loss: 0.3354 - accuracy: 0.8809\n"
     ]
    },
    {
     "data": {
      "text/plain": [
       "<keras.callbacks.History at 0x7f875116ef40>"
      ]
     },
     "execution_count": 15,
     "metadata": {},
     "output_type": "execute_result"
    }
   ],
   "source": [
    "combined_para_model.fit(train_images, train_labels, epochs=10, batch_size=8192) #batch_size= 8192\n"
   ]
  },
  {
   "cell_type": "code",
   "execution_count": 16,
   "metadata": {},
   "outputs": [
    {
     "name": "stdout",
     "output_type": "stream",
     "text": [
      "313/313 - 2s - loss: 0.3759 - accuracy: 0.8650 - 2s/epoch - 7ms/step\n"
     ]
    }
   ],
   "source": [
    "test_loss, test_acc = combined_para_model.evaluate(test_images, test_labels, verbose=2)"
   ]
  },
  {
   "cell_type": "markdown",
   "metadata": {},
   "source": [
    "The combined model did slightly better than when trained separately!"
   ]
  },
  {
   "cell_type": "code",
   "execution_count": null,
   "metadata": {},
   "outputs": [],
   "source": []
  }
 ],
 "metadata": {
  "kernelspec": {
   "display_name": "Python 3",
   "language": "python",
   "name": "python3"
  },
  "language_info": {
   "codemirror_mode": {
    "name": "ipython",
    "version": 3
   },
   "file_extension": ".py",
   "mimetype": "text/x-python",
   "name": "python",
   "nbconvert_exporter": "python",
   "pygments_lexer": "ipython3",
   "version": "3.8.10"
  }
 },
 "nbformat": 4,
 "nbformat_minor": 4
}
