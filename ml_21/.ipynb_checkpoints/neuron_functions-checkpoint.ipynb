{
 "cells": [
  {
   "cell_type": "code",
   "execution_count": 1,
   "metadata": {},
   "outputs": [],
   "source": [
    "def relu(x):\n",
    "    if x > 0:\n",
    "        return x\n",
    "    else:\n",
    "        return 0"
   ]
  },
  {
   "cell_type": "code",
   "execution_count": 2,
   "metadata": {},
   "outputs": [],
   "source": [
    "def neuron(inputs, weights, bias, activation_function):\n",
    "    temp_output = 0\n",
    "    for i in range(len(inputs)):\n",
    "        temp_output = temp_output + inputs[i]*weights[i]\n",
    "    output = activation_function(temp_output+bias)\n",
    "    return output"
   ]
  },
  {
   "cell_type": "code",
   "execution_count": 3,
   "metadata": {},
   "outputs": [],
   "source": [
    "n1_inputs = [0.0, 0.0 ,0.0]\n",
    "n1_weights = [0.0, 0.0 ,0.0]\n",
    "n1_bias = 0.0"
   ]
  },
  {
   "cell_type": "code",
   "execution_count": 4,
   "metadata": {},
   "outputs": [],
   "source": [
    "n1 = neuron(n1_inputs, n1_weights, n1_bias, relu)"
   ]
  },
  {
   "cell_type": "code",
   "execution_count": 5,
   "metadata": {},
   "outputs": [
    {
     "name": "stdout",
     "output_type": "stream",
     "text": [
      "0\n"
     ]
    }
   ],
   "source": [
    "print(n1)"
   ]
  },
  {
   "cell_type": "code",
   "execution_count": 6,
   "metadata": {},
   "outputs": [],
   "source": [
    "%matplotlib ipympl\n",
    "from ipywidgets import *\n",
    "import numpy as np\n",
    "import matplotlib.pyplot as plt\n",
    "import random"
   ]
  },
  {
   "cell_type": "code",
   "execution_count": 7,
   "metadata": {},
   "outputs": [
    {
     "data": {
      "application/vnd.jupyter.widget-view+json": {
       "model_id": "20c5d4b2e1844c57806b8cfa8fb1754b",
       "version_major": 2,
       "version_minor": 0
      },
      "text/plain": [
       "interactive(children=(FloatSlider(value=0.0, description='i1', max=1.0), FloatSlider(value=0.0, description='i…"
      ]
     },
     "metadata": {},
     "output_type": "display_data"
    },
    {
     "data": {
      "text/plain": [
       "<function __main__.update_neuron_params(i1, i2, i3, w1, w2, w3, b)>"
      ]
     },
     "execution_count": 7,
     "metadata": {},
     "output_type": "execute_result"
    },
    {
     "data": {
      "application/vnd.jupyter.widget-view+json": {
       "model_id": "4cd54b36dc5b4923ae34a73704f4d000",
       "version_major": 2,
       "version_minor": 0
      },
      "text/html": [
       "\n",
       "            <div style=\"display: inline-block;\">\n",
       "                <div class=\"jupyter-widgets widget-label\" style=\"text-align: center;\">\n",
       "                    Figure\n",
       "                </div>\n",
       "                <img src='data:image/png;base64,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' width=640.0/>\n",
       "            </div>\n",
       "        "
      ],
      "text/plain": [
       "Canvas(toolbar=Toolbar(toolitems=[('Home', 'Reset original view', 'home', 'home'), ('Back', 'Back to previous …"
      ]
     },
     "metadata": {},
     "output_type": "display_data"
    }
   ],
   "source": [
    "neuron_fig = plt.figure()\n",
    "neuron_x = neuron_fig.add_subplot(1,1,1)\n",
    "neuron_x_axis = [round(random.uniform(0.01,0.99),4)]\n",
    "\n",
    "def update_neuron_params(i1,i2,i3,w1,w2,w3,b):\n",
    "    i = [i1,i2,i3]\n",
    "    w = [w1,w2,w3]\n",
    "    y_point_neuron = neuron(i,w,b,relu)\n",
    "    neuron_x_axis[0] = neuron_x_axis[0]+0.1*i1*i2*i3\n",
    "    plt.plot(neuron_x_axis, [y_point_neuron], marker='o', markersize='3', color='red')\n",
    "    neuron_fig.canvas.draw_idle()\n",
    "interact(update_neuron_params, i1=0.0, i2=0.0, i3=0.0,w1=0.0, w2=0.0, w3=0.0, b=0.0)"
   ]
  },
  {
   "cell_type": "markdown",
   "metadata": {},
   "source": [
    "Dense Layer"
   ]
  },
  {
   "cell_type": "code",
   "execution_count": 10,
   "metadata": {},
   "outputs": [],
   "source": [
    "def dense_layer(inputs_to_layer, number_of_neurons, activation_function, weights, biases):\n",
    "    output=[]\n",
    "    for i in range(number_of_neurons):\n",
    "        output_from_one_neuron = neuron(inputs_to_layer, weights[i], biases[i], activation_function)\n",
    "        output.append(output_from_one_neuron)\n",
    "    return output"
   ]
  },
  {
   "cell_type": "code",
   "execution_count": 11,
   "metadata": {},
   "outputs": [],
   "source": [
    "l1_weights = [[0] ,[0] ,[0] ,[0]]\n",
    "l1_biases = [0 ,0 , 0 ,0]\n",
    "l1_inputs = [0.4]\n",
    "layer1 = dense_layer(l1_inputs, 4, relu, l1_weights, l1_biases)\n"
   ]
  },
  {
   "cell_type": "code",
   "execution_count": 12,
   "metadata": {},
   "outputs": [
    {
     "name": "stdout",
     "output_type": "stream",
     "text": [
      "[0, 0, 0, 0]\n"
     ]
    }
   ],
   "source": [
    "print(layer1)"
   ]
  },
  {
   "cell_type": "code",
   "execution_count": 13,
   "metadata": {},
   "outputs": [],
   "source": [
    "l2_weights = [[0,0,0,0] ,[0,0,0,0] ,[0,0,0,0] ,[0,0,0,0]]\n",
    "l2_biases = [0 ,0 , 0 ,0]\n",
    "layer2 = dense_layer(layer1, 4, relu, l2_weights, l2_biases)\n"
   ]
  },
  {
   "cell_type": "code",
   "execution_count": 14,
   "metadata": {},
   "outputs": [
    {
     "name": "stdout",
     "output_type": "stream",
     "text": [
      "[0, 0, 0, 0]\n"
     ]
    }
   ],
   "source": [
    "print(layer2)"
   ]
  },
  {
   "cell_type": "code",
   "execution_count": 15,
   "metadata": {},
   "outputs": [],
   "source": [
    "l3_weights =[[0,0,0,0] ,[0,0,0,0]]\n",
    "l3_biases = [0 ,0]\n",
    "layer3 = dense_layer(layer2, 2, relu, l3_weights, l3_biases)\n"
   ]
  },
  {
   "cell_type": "code",
   "execution_count": 16,
   "metadata": {},
   "outputs": [
    {
     "name": "stdout",
     "output_type": "stream",
     "text": [
      "[0, 0]\n"
     ]
    }
   ],
   "source": [
    "print(layer3)"
   ]
  },
  {
   "cell_type": "code",
   "execution_count": 17,
   "metadata": {},
   "outputs": [],
   "source": [
    "def lin(x):\n",
    "    return x"
   ]
  },
  {
   "cell_type": "code",
   "execution_count": 18,
   "metadata": {},
   "outputs": [
    {
     "data": {
      "application/vnd.jupyter.widget-view+json": {
       "model_id": "087df582c4ef4a34ba33d38f72460c8e",
       "version_major": 2,
       "version_minor": 0
      },
      "text/plain": [
       "GridspecLayout(children=(FloatSlider(value=0.0, description='l1w11', layout=Layout(grid_area='widget001'), max…"
      ]
     },
     "metadata": {},
     "output_type": "display_data"
    },
    {
     "data": {
      "application/vnd.jupyter.widget-view+json": {
       "model_id": "9e263ef137d04f26a38f5a22d8847e24",
       "version_major": 2,
       "version_minor": 0
      },
      "text/html": [
       "\n",
       "            <div style=\"display: inline-block;\">\n",
       "                <div class=\"jupyter-widgets widget-label\" style=\"text-align: center;\">\n",
       "                    Figure\n",
       "                </div>\n",
       "                <img src='data:image/png;base64,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' width=640.0/>\n",
       "            </div>\n",
       "        "
      ],
      "text/plain": [
       "Canvas(toolbar=Toolbar(toolitems=[('Home', 'Reset original view', 'home', 'home'), ('Back', 'Back to previous …"
      ]
     },
     "metadata": {},
     "output_type": "display_data"
    }
   ],
   "source": [
    "from ipywidgets import GridspecLayout\n",
    "from math import cos\n",
    "network_fig = plt.figure()\n",
    "\n",
    "\n",
    "\n",
    "\"\"\"\n",
    "model = {layer1: {inputs=1,neurons=3},\n",
    "layer2: {inputs=3,neurons=3},\n",
    "layer1: {inputs=3,neurons=2}}\n",
    "\"\"\"\n",
    "\n",
    "\n",
    "\n",
    "param = dict(value=0.0, min=-5.0, max=5.0, step=0.1, orientation='vertical')\n",
    "def s(a):\n",
    "    return widgets.FloatSlider(**param,description=a)\n",
    "\n",
    "\n",
    "\n",
    "def update_weights_and_biases_for_network(l1w11,l1w21,l1w31,\n",
    "                                            l1b1,l1b2,l1b3,\n",
    "                                            l2w11,l2w12,l2w13,l2w21,l2w22,l2w23,l2w31,l2w32,l2w33,\n",
    "                                            l2b1,l2b2,l2b3,\n",
    "                                            l3w11,l3w12,l3w13,l3w21,l3w22,l3w23,\n",
    "                                            l3b1,l3b2):\n",
    "    layer1_weights = [[l1w11],[l1w21],[l1w31]]\n",
    "    layer2_weights = [[l2w11,l2w12,l2w13],[l2w21,l2w22,l2w23],[l2w31,l2w32,l2w33]]\n",
    "    layer3_weights = [[l3w11,l3w12,l3w13],[l3w21,l3w22,l3w23]]\n",
    "    layer1_bias=[l1b1,l1b2,l1b3]\n",
    "    layer2_bias=[l2b1,l2b2,l2b3]\n",
    "    layer3_bias=[l3b1,l3b2]\n",
    "\n",
    "\n",
    "\n",
    "    plt.clf()\n",
    "    x_point_neuron1_output = network_fig.add_subplot(1, 1, 1)\n",
    "    for i in range(-100,100):\n",
    "        layer1 = dense_layer([i/100], 3, relu,layer1_weights, layer1_bias)\n",
    "        layer2 = dense_layer(layer1, 3, relu,layer2_weights, layer2_bias)\n",
    "        layer3 = dense_layer(layer2, 2, lin,layer3_weights, layer3_bias)\n",
    "        x_point_neuron1_output = layer3[0]\n",
    "        y_point_neuron2_output = layer3[1]\n",
    "        #plt.scatter(x,y, c='b', marker='x', label='1')\n",
    "        #plt.scatter(x, y, c='r', marker='s', label='-1')\n",
    "        plt.scatter(i/100,cos(i/100), color=\"blue\")\n",
    "        plt.scatter(x_point_neuron1_output, y_point_neuron2_output, color=\"red\")\n",
    "        #plt.plot(x_point_neuron1_output, y_point_neuron2_output, marker='o', markersize=3, color=\"red\")\n",
    "    neuron_fig.canvas.draw_idle()\n",
    "\n",
    "\n",
    "\n",
    "layer1 = [\"l1w11\",\"l1w21\",\"l1w31\",\"l1b1\",\"l1b2\",\"l1b3\"]\n",
    "layer2 = [\"l2w11\",\"l2w12\",\"l2w13\",\"l2w21\",\"l2w22\",\"l2w23\",\"l2w31\",\"l2w32\",\"l2w33\",\"l2b1\",\"l2b2\",\"l2b3\"]\n",
    "layer3 = [\"l3w11\",\"l3w12\",\"l3w13\",\"l3w21\",\"l3w22\",\"l3w23\",\"l3b1\",\"l3b2\"]\n",
    "network = [layer1,layer2,layer3]\n",
    "\n",
    "grid = GridspecLayout(4, 13, height='650px')\n",
    "control_dict = {}\n",
    "for i in range(len(network)):\n",
    "    for j in range(len(network[i])):\n",
    "        grid[i, j] = s(network[i][j])\n",
    "        control_dict.update( {network[i][j] : grid[i,j]} )\n",
    "grid[3,0] = interactive_output(update_weights_and_biases_for_network, control_dict)\n",
    "grid"
   ]
  },
  {
   "cell_type": "code",
   "execution_count": null,
   "metadata": {},
   "outputs": [],
   "source": []
  }
 ],
 "metadata": {
  "kernelspec": {
   "display_name": "Python 3",
   "language": "python",
   "name": "python3"
  },
  "language_info": {
   "codemirror_mode": {
    "name": "ipython",
    "version": 3
   },
   "file_extension": ".py",
   "mimetype": "text/x-python",
   "name": "python",
   "nbconvert_exporter": "python",
   "pygments_lexer": "ipython3",
   "version": "3.8.10"
  }
 },
 "nbformat": 4,
 "nbformat_minor": 4
}
