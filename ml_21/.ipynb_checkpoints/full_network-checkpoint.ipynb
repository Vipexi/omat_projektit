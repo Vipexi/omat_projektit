{
 "cells": [
  {
   "cell_type": "markdown",
   "metadata": {},
   "source": [
    "Output = a+ b*x + c*x**2 + d*x**3\n",
    "a,b,c,d are output neurons"
   ]
  },
  {
   "cell_type": "code",
   "execution_count": 1,
   "metadata": {},
   "outputs": [],
   "source": [
    "import numpy as np\n",
    "import math\n",
    "#import random"
   ]
  },
  {
   "cell_type": "code",
   "execution_count": 2,
   "metadata": {},
   "outputs": [],
   "source": [
    "input_value = np.linspace(-math.pi, math.pi, 2000)\n",
    "y = np.sin(input_value)"
   ]
  },
  {
   "cell_type": "code",
   "execution_count": 5,
   "metadata": {},
   "outputs": [
    {
     "name": "stdout",
     "output_type": "stream",
     "text": [
      "99 1950.9891353920757\n",
      "199 1307.515685409032\n",
      "299 876.925419276124\n",
      "399 588.5927657602554\n",
      "499 395.381825464226\n",
      "599 265.8158888767107\n",
      "699 178.86295724869098\n",
      "799 120.46133596030839\n",
      "899 81.20354906791627\n",
      "999 54.7916413913621\n",
      "1099 37.006415647837265\n",
      "1199 25.01923715182877\n",
      "1299 16.93229180034593\n",
      "1399 11.471274900198337\n",
      "1499 7.779841616699555\n",
      "1599 5.282031400201927\n",
      "1699 3.590124313864332\n",
      "1799 2.442881786240882\n",
      "1899 1.6641214922649226\n",
      "1999 1.134909730951443\n",
      "2099 0.7748797736062721\n",
      " result: y = 0.7962026186267783 + 0.01589122144795009 input_value + 0.002969509286709783 input_value**2 + -0.0022603878689970327 input_value**3\n"
     ]
    }
   ],
   "source": [
    "a = np.random.randn()\n",
    "b = np.random.randn()\n",
    "c = np.random.randn()\n",
    "d = np.random.randn()\n",
    "\n",
    "learning_rate = 1e-6\n",
    "#learning_rate2 = 0.000001\n",
    "#if learning_rate == learning_rate2:\n",
    "#    print(True)\n",
    "#print(a,b,c,d)\n",
    "#print(learning_rate)\n",
    "\n",
    "for t in range(2199):\n",
    "    y_predicted = a+ b*input_value + c*input_value**2 + d*input_value**3\n",
    "    #print(np.shape(y_predicted))\n",
    "    loss = np.square(y_predicted - y).sum()\n",
    "    if t % 100 == 99:\n",
    "        print(t, loss)\n",
    "    grad_y_predicted = 2.0 * (y_predicted - y)\n",
    "    grad_a = grad_y_predicted.sum()\n",
    "    grad_b = (grad_y_predicted*input_value).sum()\n",
    "    grad_c = (grad_y_predicted*input_value**2).sum()\n",
    "    grad_d = (grad_y_predicted*input_value**3).sum()\n",
    "    \n",
    "    a -= learning_rate * grad_a\n",
    "    b -= learning_rate * grad_b\n",
    "    c -= learning_rate * grad_c\n",
    "    d -= learning_rate * grad_d\n",
    "    \n",
    "print(f\" result: y = {a} + {b} input_value + {c} input_value**2 + {d} input_value**3\")"
   ]
  },
  {
   "cell_type": "code",
   "execution_count": null,
   "metadata": {},
   "outputs": [],
   "source": []
  },
  {
   "cell_type": "code",
   "execution_count": 4,
   "metadata": {},
   "outputs": [
    {
     "name": "stdout",
     "output_type": "stream",
     "text": [
      " label with x = 0.95,y = 0.8134155047893737, and predicted y = 0.7380343683165365\n"
     ]
    }
   ],
   "source": [
    "input_test_value= .95\n",
    "y = np.sin(input_test_value)\n",
    "y_predicted = a + b*input_test_value + c*input_test_value**2 + d*input_test_value**3\n",
    "print(f\" label with x = {input_test_value},y = {y}, and predicted y = {y_predicted}\")"
   ]
  },
  {
   "cell_type": "code",
   "execution_count": null,
   "metadata": {},
   "outputs": [],
   "source": []
  }
 ],
 "metadata": {
  "kernelspec": {
   "display_name": "Python 3",
   "language": "python",
   "name": "python3"
  },
  "language_info": {
   "codemirror_mode": {
    "name": "ipython",
    "version": 3
   },
   "file_extension": ".py",
   "mimetype": "text/x-python",
   "name": "python",
   "nbconvert_exporter": "python",
   "pygments_lexer": "ipython3",
   "version": "3.8.10"
  }
 },
 "nbformat": 4,
 "nbformat_minor": 4
}
