{
 "cells": [
  {
   "cell_type": "markdown",
   "metadata": {},
   "source": [
    "This function returns the dot product of two arrays. For 2-D vectors, it is the equivalent to matrix multiplication. For 1-D arrays, it is the inner product of the vectors. For N-dimensional arrays, it is a sum product over the last axis of a and the second-last axis of b.\n",
    "\n",
    "import numpy.matlib \n",
    "import numpy as np \n",
    "\n",
    "a = np.array([[1,2],[3,4]]) \n",
    "b = np.array([[11,12],[13,14]]) \n",
    "np.dot(a,b)\n",
    "It will produce the following output −\n",
    "\n",
    "[[37  40] \n",
    " [85  92]] \n",
    "Note that the dot product is calculated as −\n",
    "\n",
    "[[1*11+2*13, 1*12+2*14],[3*11+4*13, 3*12+4*14]]"
   ]
  },
  {
   "cell_type": "code",
   "execution_count": 1,
   "metadata": {},
   "outputs": [],
   "source": [
    "import numpy as np"
   ]
  },
  {
   "cell_type": "code",
   "execution_count": 3,
   "metadata": {},
   "outputs": [
    {
     "name": "stdout",
     "output_type": "stream",
     "text": [
      "(3,)\n"
     ]
    }
   ],
   "source": [
    "a = np.array([1,2,3])\n",
    "print(a.shape)"
   ]
  },
  {
   "cell_type": "code",
   "execution_count": 4,
   "metadata": {},
   "outputs": [
    {
     "name": "stdout",
     "output_type": "stream",
     "text": [
      "(1, 3)\n"
     ]
    }
   ],
   "source": [
    "b = np.array(([1,2,3],))\n",
    "print(b.shape)"
   ]
  },
  {
   "cell_type": "code",
   "execution_count": 7,
   "metadata": {},
   "outputs": [
    {
     "name": "stdout",
     "output_type": "stream",
     "text": [
      "(3, 1)\n"
     ]
    }
   ],
   "source": [
    "c = np.array(([1],[2],[3]))\n",
    "print(c.shape)"
   ]
  },
  {
   "cell_type": "code",
   "execution_count": 8,
   "metadata": {},
   "outputs": [],
   "source": [
    "b_dot_c = b.dot(c) "
   ]
  },
  {
   "cell_type": "code",
   "execution_count": 9,
   "metadata": {},
   "outputs": [
    {
     "name": "stdout",
     "output_type": "stream",
     "text": [
      "(1, 1)\n"
     ]
    }
   ],
   "source": [
    "print(b_dot_c.shape)"
   ]
  },
  {
   "cell_type": "code",
   "execution_count": 10,
   "metadata": {},
   "outputs": [
    {
     "data": {
      "text/plain": [
       "array([[14]])"
      ]
     },
     "execution_count": 10,
     "metadata": {},
     "output_type": "execute_result"
    }
   ],
   "source": [
    "b_dot_c"
   ]
  },
  {
   "cell_type": "code",
   "execution_count": 11,
   "metadata": {},
   "outputs": [
    {
     "name": "stdout",
     "output_type": "stream",
     "text": [
      "(3, 3)\n"
     ]
    },
    {
     "data": {
      "text/plain": [
       "array([[1, 2, 3],\n",
       "       [2, 4, 6],\n",
       "       [3, 6, 9]])"
      ]
     },
     "execution_count": 11,
     "metadata": {},
     "output_type": "execute_result"
    }
   ],
   "source": [
    "c_dot_b = c.dot(b)\n",
    "print(c_dot_b.shape)\n",
    "c_dot_b"
   ]
  },
  {
   "cell_type": "code",
   "execution_count": 15,
   "metadata": {},
   "outputs": [
    {
     "name": "stdout",
     "output_type": "stream",
     "text": [
      "(1, 3)\n",
      "(3, 1)\n"
     ]
    }
   ],
   "source": [
    "bt = b.T\n",
    "print(b.shape)\n",
    "print(bt.shape)"
   ]
  },
  {
   "cell_type": "code",
   "execution_count": 17,
   "metadata": {},
   "outputs": [
    {
     "data": {
      "text/plain": [
       "array([[1, 2, 3]])"
      ]
     },
     "execution_count": 17,
     "metadata": {},
     "output_type": "execute_result"
    }
   ],
   "source": [
    "x = 3\n",
    "d = np.maximum(0,b)\n",
    "d"
   ]
  },
  {
   "cell_type": "markdown",
   "metadata": {},
   "source": [
    "a input\n",
    "b input\n",
    "c input\n",
    "a = 1 b = 0 c => 1\n",
    "a = 0 b = 1 c => 1\n",
    "a = 0 b = 0 c => 0\n",
    "a = 1 b = 1 c => 0"
   ]
  },
  {
   "cell_type": "code",
   "execution_count": 20,
   "metadata": {},
   "outputs": [],
   "source": [
    "import numpy as np\n",
    "import matplotlib.pyplot as plt"
   ]
  },
  {
   "cell_type": "code",
   "execution_count": 35,
   "metadata": {},
   "outputs": [
    {
     "name": "stdout",
     "output_type": "stream",
     "text": [
      "[[0.        ]\n",
      " [3.1390311 ]\n",
      " [1.56505744]\n",
      " [3.13917376]]\n",
      "(4, 1)\n"
     ]
    }
   ],
   "source": [
    "inputs = 2\n",
    "batch_size = 4\n",
    "hidden_dim = 30\n",
    "output_dim = 1\n",
    "\n",
    "input_matrix = np.array([[0, 0], [0, 1], [1, 0], [1, 1]])\n",
    "output_labels = np.array([[0], [1], [1], [0]])\n",
    "\n",
    "weights_layer1 = np.random.randn(2, 30)\n",
    "\n",
    "#print(weights_layer1)\n",
    "#print(weights_layer1.shape)\n",
    "\n",
    "weights_layer2 = np.random.randn(30, 1)\n",
    "\n",
    "#print(weights_layer2)\n",
    "#print(weights_layer2.shape)\n",
    "\n",
    "learning_rate = 0.0002\n",
    "loss_col = []\n",
    "epochs = 200\n",
    "\n",
    "#for t in range(epochs):\n",
    "layer1 = input_matrix.dot(weights_layer1)\n",
    "#print(layer1)\n",
    "#print(layer1.shape)\n",
    "layer_after_relu = np.maximum(0, layer1)\n",
    "#print(layer_after_relu)\n",
    "#print(layer_after_relu.shape)\n",
    "\n",
    "output_layer = layer_after_relu.dot(weights_layer2)\n",
    "#print(weights_layer2)\n",
    "print(output_layer)\n",
    "print(output_layer.shape)"
   ]
  }
 ],
 "metadata": {
  "kernelspec": {
   "display_name": "Python 3",
   "language": "python",
   "name": "python3"
  },
  "language_info": {
   "codemirror_mode": {
    "name": "ipython",
    "version": 3
   },
   "file_extension": ".py",
   "mimetype": "text/x-python",
   "name": "python",
   "nbconvert_exporter": "python",
   "pygments_lexer": "ipython3",
   "version": "3.8.10"
  }
 },
 "nbformat": 4,
 "nbformat_minor": 4
}
