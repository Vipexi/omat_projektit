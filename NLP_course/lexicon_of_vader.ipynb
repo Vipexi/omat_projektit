{
 "cells": [
  {
   "cell_type": "code",
   "execution_count": 1,
   "metadata": {},
   "outputs": [],
   "source": [
    "%%capture\n",
    "\n",
    "import nltk\n",
    "from nltk.sentiment import SentimentIntensityAnalyzer\n",
    "\n",
    "nltk.download('vader_lexicon')"
   ]
  },
  {
   "cell_type": "code",
   "execution_count": 4,
   "metadata": {},
   "outputs": [],
   "source": [
    "analyzer = SentimentIntensityAnalyzer()\n",
    "\n",
    "def analyzeSentiments(sentences):\n",
    "    for sentence in sentences:\n",
    "        print(sentence)\n",
    "        scores = analyzer.polarity_scores(sentence)\n",
    "        for key in sorted(scores):\n",
    "            print(f\"{key}: {scores[key]}\")\n",
    "        print()"
   ]
  },
  {
   "cell_type": "markdown",
   "metadata": {},
   "source": [
    "## neutral opinion"
   ]
  },
  {
   "cell_type": "code",
   "execution_count": 5,
   "metadata": {},
   "outputs": [
    {
     "name": "stdout",
     "output_type": "stream",
     "text": [
      "That videogame is normal\n",
      "compound: 0.0\n",
      "neg: 0.0\n",
      "neu: 1.0\n",
      "pos: 0.0\n",
      "\n",
      "That videogame is normal, didn't surprise me, but was not bad\n",
      "compound: 0.5216\n",
      "neg: 0.099\n",
      "neu: 0.635\n",
      "pos: 0.266\n",
      "\n",
      "That videogame is just one more in the list, nothing new to show\n",
      "compound: 0.0\n",
      "neg: 0.0\n",
      "neu: 1.0\n",
      "pos: 0.0\n",
      "\n"
     ]
    }
   ],
   "source": [
    "sentences = [\n",
    "    \"That videogame is normal\",\n",
    "    \"That videogame is normal, didn't surprise me, but was not bad\",\n",
    "    \"That videogame is just one more in the list, nothing new to show\"\n",
    "]\n",
    "\n",
    "analyzeSentiments(sentences)"
   ]
  },
  {
   "cell_type": "markdown",
   "metadata": {},
   "source": [
    "## positive opinion"
   ]
  },
  {
   "cell_type": "code",
   "execution_count": 7,
   "metadata": {},
   "outputs": [
    {
     "name": "stdout",
     "output_type": "stream",
     "text": [
      "Spiderman: No way home is the best super hero movie I have ever seen. It's Amazing\n",
      "compound: 0.936\n",
      "neg: 0.079\n",
      "neu: 0.361\n",
      "pos: 0.56\n",
      "\n",
      "The last Spiderman movie is the best super hero movie I have ever seen. It's Amazing\n",
      "compound: 0.9477\n",
      "neg: 0.0\n",
      "neu: 0.415\n",
      "pos: 0.585\n",
      "\n",
      "The last Spiderman movie is the best super hero movie I have ever seen. The plot is Amazing, The visual effects are perfect and the actors are Incredible.\n",
      "compound: 0.9648\n",
      "neg: 0.0\n",
      "neu: 0.534\n",
      "pos: 0.466\n",
      "\n"
     ]
    }
   ],
   "source": [
    "sentences = [\n",
    "    \"Spiderman: No way home is the best super hero movie I have ever seen. It's Amazing\",\n",
    "    \"The last Spiderman movie is the best super hero movie I have ever seen. It's Amazing\",\n",
    "    \"The last Spiderman movie is the best super hero movie I have ever seen. The plot is Amazing, The visual effects are perfect and the actors are Incredible.\"\n",
    "]\n",
    "\n",
    "analyzeSentiments(sentences)"
   ]
  },
  {
   "cell_type": "markdown",
   "metadata": {},
   "source": [
    "## negative opinion"
   ]
  },
  {
   "cell_type": "code",
   "execution_count": 8,
   "metadata": {},
   "outputs": [
    {
     "name": "stdout",
     "output_type": "stream",
     "text": [
      "Fast and Furious 6 is the worst movie I have ever seen. It's unreal, too fictious and not funny at all\n",
      "compound: -0.8808\n",
      "neg: 0.389\n",
      "neu: 0.611\n",
      "pos: 0.0\n",
      "\n",
      "F&F6 is funny but bad action movie\n",
      "compound: -0.5859\n",
      "neg: 0.406\n",
      "neu: 0.427\n",
      "pos: 0.167\n",
      "\n"
     ]
    }
   ],
   "source": [
    "sentences = [\n",
    "    \"Fast and Furious 6 is the worst movie I have ever seen. It's unreal, too fictious and not funny at all\",\n",
    "    \"F&F6 is funny but bad action movie\"\n",
    "]\n",
    "\n",
    "analyzeSentiments(sentences)"
   ]
  },
  {
   "cell_type": "markdown",
   "metadata": {},
   "source": [
    "## With many negations words"
   ]
  },
  {
   "cell_type": "code",
   "execution_count": 9,
   "metadata": {},
   "outputs": [
    {
     "name": "stdout",
     "output_type": "stream",
     "text": [
      "The movie was bad\n",
      "compound: -0.5423\n",
      "neg: 0.538\n",
      "neu: 0.462\n",
      "pos: 0.0\n",
      "\n",
      "The movie was not that bad\n",
      "compound: 0.431\n",
      "neg: 0.0\n",
      "neu: 0.637\n",
      "pos: 0.363\n",
      "\n",
      "The movie was not bad\n",
      "compound: 0.431\n",
      "neg: 0.0\n",
      "neu: 0.584\n",
      "pos: 0.416\n",
      "\n",
      "The movie was not bad at all\n",
      "compound: 0.431\n",
      "neg: 0.0\n",
      "neu: 0.678\n",
      "pos: 0.322\n",
      "\n"
     ]
    }
   ],
   "source": [
    "sentences = [\n",
    "    \"The movie was bad\",\n",
    "    \"The movie was not that bad\",\n",
    "    \"The movie was not bad\",\n",
    "    \"The movie was not bad at all\"\n",
    "]\n",
    "analyzeSentiments(sentences)"
   ]
  },
  {
   "cell_type": "code",
   "execution_count": null,
   "metadata": {},
   "outputs": [],
   "source": []
  }
 ],
 "metadata": {
  "kernelspec": {
   "display_name": "Python 3",
   "language": "python",
   "name": "python3"
  },
  "language_info": {
   "codemirror_mode": {
    "name": "ipython",
    "version": 3
   },
   "file_extension": ".py",
   "mimetype": "text/x-python",
   "name": "python",
   "nbconvert_exporter": "python",
   "pygments_lexer": "ipython3",
   "version": "3.8.10"
  }
 },
 "nbformat": 4,
 "nbformat_minor": 4
}
