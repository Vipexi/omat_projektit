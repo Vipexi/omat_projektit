{
 "cells": [
  {
   "cell_type": "code",
   "execution_count": 1,
   "id": "aeb22787-e197-4b6a-9e90-f721523bfa96",
   "metadata": {},
   "outputs": [],
   "source": [
    "import pandas as pd"
   ]
  },
  {
   "cell_type": "code",
   "execution_count": 2,
   "id": "91873375-ed2a-4327-b42d-275289093f35",
   "metadata": {},
   "outputs": [],
   "source": [
    "vieraat = [\"Fammu\", \"Pappa\", \"Nelli\", \"Nea\", \"Henkka\", \"Mormor\", \"Mummu\", \"Vaari\", \"Mari\"]"
   ]
  },
  {
   "cell_type": "code",
   "execution_count": 5,
   "id": "553863c3-99dc-426c-9ed6-61c5d1cf580d",
   "metadata": {},
   "outputs": [
    {
     "ename": "TypeError",
     "evalue": "count() takes exactly one argument (0 given)",
     "output_type": "error",
     "traceback": [
      "\u001b[0;31m---------------------------------------------------------------------------\u001b[0m",
      "\u001b[0;31mTypeError\u001b[0m                                 Traceback (most recent call last)",
      "Cell \u001b[0;32mIn [5], line 1\u001b[0m\n\u001b[0;32m----> 1\u001b[0m \u001b[43mvieraat\u001b[49m\u001b[38;5;241;43m.\u001b[39;49m\u001b[43mcount\u001b[49m\u001b[43m(\u001b[49m\u001b[43m)\u001b[49m\n",
      "\u001b[0;31mTypeError\u001b[0m: count() takes exactly one argument (0 given)"
     ]
    }
   ],
   "source": [
    "vieraat.count()"
   ]
  },
  {
   "cell_type": "code",
   "execution_count": null,
   "id": "b601549e-dd13-4db6-ae15-d3ad9960ec63",
   "metadata": {},
   "outputs": [],
   "source": []
  }
 ],
 "metadata": {
  "kernelspec": {
   "display_name": "Python 3 (ipykernel)",
   "language": "python",
   "name": "python3"
  },
  "language_info": {
   "codemirror_mode": {
    "name": "ipython",
    "version": 3
   },
   "file_extension": ".py",
   "mimetype": "text/x-python",
   "name": "python",
   "nbconvert_exporter": "python",
   "pygments_lexer": "ipython3",
   "version": "3.8.10"
  }
 },
 "nbformat": 4,
 "nbformat_minor": 5
}
