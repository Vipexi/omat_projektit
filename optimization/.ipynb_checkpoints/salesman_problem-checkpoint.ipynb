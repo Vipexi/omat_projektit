{
 "cells": [
  {
   "cell_type": "code",
   "execution_count": 1,
   "id": "a2e09c81-8502-4628-bd13-693d1f1e4b10",
   "metadata": {},
   "outputs": [],
   "source": [
    "import pandas as pd\n",
    "from geopandas.tools import geocode"
   ]
  },
  {
   "cell_type": "code",
   "execution_count": 4,
   "id": "e1703a08-512e-4725-a623-2636dc964a86",
   "metadata": {},
   "outputs": [
    {
     "name": "stdout",
     "output_type": "stream",
     "text": [
      "Coordinates for Tampere: 61.4980214, 61.4980214\n",
      "Coordinates for Toijala: 61.1668495, 61.1668495\n",
      "Coordinates for Sastamala: 61.45004805, 61.45004805\n",
      "Coordinates for Vesilahti: 61.2970187, 61.2970187\n"
     ]
    }
   ],
   "source": [
    "import requests\n",
    "import urllib.parse\n",
    "\n",
    "cities = ['Tampere', 'Toijala', 'Sastamala', 'Vesilahti']\n",
    "coordinates = []\n",
    "i = 0\n",
    "for c in cities:\n",
    "    url = 'https://nominatim.openstreetmap.org/search/' + urllib.parse.quote(c) +'?format=json'\n",
    "\n",
    "    response = requests.get(url).json()\n",
    "    latitude = response[0][\"lat\"]\n",
    "    longitude = response[0][\"lat\"]\n",
    "    coordinate = latitude + \", \" + longitude\n",
    "    coordinates.append(coordinate)\n",
    "    \n",
    "    print(f\"Coordinates for {c}: {coordinates[i]}\")\n",
    "    i += 1"
   ]
  },
  {
   "cell_type": "code",
   "execution_count": 5,
   "id": "db041c75-f9b3-4ff9-bdc1-2863517c0736",
   "metadata": {},
   "outputs": [
    {
     "data": {
      "text/plain": [
       "'import numpy as np\\nimport pandas as pd\\nfrom math import radians, cos, sin, asin, acos, sqrt, pi\\nfrom geopy import distance\\nfrom geopy.geocoders import Nominatim\\nimport osmnx as ox\\nimport networkx as nx\\nlat1, lon1 = -37.82120, 144.96441 # location 1\\nlat2, lon2 = -37.88465,  145.08727 # location 2'"
      ]
     },
     "execution_count": 5,
     "metadata": {},
     "output_type": "execute_result"
    }
   ],
   "source": [
    "\"\"\"import numpy as np\n",
    "import pandas as pd\n",
    "from math import radians, cos, sin, asin, acos, sqrt, pi\n",
    "from geopy import distance\n",
    "from geopy.geocoders import Nominatim\n",
    "import osmnx as ox\n",
    "import networkx as nx\n",
    "lat1, lon1 = -37.82120, 144.96441 # location 1\n",
    "lat2, lon2 = -37.88465,  145.08727 # location 2\"\"\""
   ]
  },
  {
   "cell_type": "code",
   "execution_count": null,
   "id": "08f0ba91-85c7-4544-acd7-ebcbc9480276",
   "metadata": {},
   "outputs": [],
   "source": [
    "cities = ['Tampere', 'Toijala', 'Sastamala', 'Vesilahti']\n",
    "cordinates = ['']\n",
    "df = pd.Series(Cities)"
   ]
  },
  {
   "cell_type": "code",
   "execution_count": null,
   "id": "c3d7b3df-3421-4012-9100-f6d0ac3acc99",
   "metadata": {},
   "outputs": [],
   "source": [
    "for i in df['Cities']:\n",
    "    information = geocode()"
   ]
  },
  {
   "cell_type": "code",
   "execution_count": null,
   "id": "4f0476dc-b345-44ef-9f11-fb890d900644",
   "metadata": {},
   "outputs": [],
   "source": []
  },
  {
   "cell_type": "code",
   "execution_count": null,
   "id": "38e0f721-835b-4290-aaf1-5810ca7fc9e0",
   "metadata": {},
   "outputs": [],
   "source": []
  }
 ],
 "metadata": {
  "kernelspec": {
   "display_name": "Python 3 (ipykernel)",
   "language": "python",
   "name": "python3"
  },
  "language_info": {
   "codemirror_mode": {
    "name": "ipython",
    "version": 3
   },
   "file_extension": ".py",
   "mimetype": "text/x-python",
   "name": "python",
   "nbconvert_exporter": "python",
   "pygments_lexer": "ipython3",
   "version": "3.8.10"
  }
 },
 "nbformat": 4,
 "nbformat_minor": 5
}
